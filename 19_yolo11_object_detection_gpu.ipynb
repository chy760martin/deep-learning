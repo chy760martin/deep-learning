{
 "cells": [
  {
   "cell_type": "code",
   "execution_count": null,
   "id": "a8cff20f",
   "metadata": {},
   "outputs": [],
   "source": [
    "# YOLO11\n",
    "# Classification, Detection, Segmentation, Tracking, Pose 를 수행할 수 있는 다양한 pre-trained model 제공함\n",
    "# pre-trained model 학습데이터 정보인 yaml 파일만 바꾸어 주면 동일한 파이썬 API를 이용해서 다양한 작업을 할 수 있음"
   ]
  },
  {
   "cell_type": "code",
   "execution_count": 1,
   "id": "2ea32790",
   "metadata": {},
   "outputs": [],
   "source": [
    "# YOLO11 프로젝트 개발 프로세스\n",
    "\n",
    "# Data Preparation \n",
    "# - MS COCO Dataset으로 사전학습된 YOLOv8 모델 prediction 기능만을 이용하는 경우라면 예측에 사용할 Image를 준비(주어진 Image(학습이미지) 정답에 해당하는 Annotation(정답 label) 필요치 않음)\n",
    "# - Custom Dataset로 YOLOv8 모델을 재학습(Fine Tuning) 하는 경우에는 Image / Annotation 으로 이루어진 Dataset 을 준비\n",
    "#   데이터는 Roboflow(public.roboflow.com) 에서 제공하는 Training Dataset 을 이용하거나 LabelImg와 같은 labeling tool을 이용하여 개발자가 직접\n",
    "#   labeling 시킨 Image(학습이미지) / Annotation(정답 label) 으로 이루어진 Training Dataset을 구축해야 함\n",
    "\n",
    "# Loading Data\n",
    "# - Dataset 다운로드 및 로드\n",
    "\n",
    "# Install YOLOv8\n",
    "# - pip install ultralytics 라이브러리 설치 및 dependency 체크\n",
    "\n",
    "# Training Model 구축\n",
    "# - detection\n",
    "# - segmentation\n",
    "\n",
    "# Prediction"
   ]
  },
  {
   "cell_type": "code",
   "execution_count": 2,
   "id": "8d51a1c0",
   "metadata": {},
   "outputs": [],
   "source": [
    "# YOLO11 사용하여 이미지 Detection Prediction\n",
    "import os, zipfile, shutil\n",
    "import numpy as np"
   ]
  },
  {
   "cell_type": "code",
   "execution_count": 8,
   "id": "0660c776",
   "metadata": {},
   "outputs": [],
   "source": [
    "# 데이터 폴더 존재시 삭제\n",
    "if os.path.exists('.\\\\data\\\\yolo11_test_image_dir'):\n",
    "    shutil.rmtree('.\\\\data\\\\yolo11_test_image_dir')\n",
    "    print('.\\\\data\\\\yolo11_test_image_dir is removed')"
   ]
  },
  {
   "cell_type": "code",
   "execution_count": 9,
   "id": "fd931c2a",
   "metadata": {},
   "outputs": [
    {
     "name": "stdout",
     "output_type": "stream",
     "text": [
      "test images =  ['test1.jpg', 'test2.jpg', 'test3', 'test4.jpg', 'test5.jpg', 'test6.jpg', 'test7.jpg', 'test8.jpg']\n"
     ]
    }
   ],
   "source": [
    "# Data Preparation and Load Data\n",
    "with zipfile.ZipFile('.\\\\data\\\\yolov8_test_image.zip') as target_file:\n",
    "    target_file.extractall('.\\\\data\\\\yolo11_test_image_dir')\n",
    "\n",
    "print('test images = ', os.listdir('.\\\\data\\\\yolo11_test_image_dir'))"
   ]
  },
  {
   "cell_type": "code",
   "execution_count": 23,
   "id": "ece925df",
   "metadata": {},
   "outputs": [
    {
     "name": "stdout",
     "output_type": "stream",
     "text": [
      "Requirement already satisfied: ultralytics in c:\\users\\ai\\miniconda3\\lib\\site-packages (8.3.173)\n",
      "Requirement already satisfied: numpy>=1.23.0 in c:\\users\\ai\\miniconda3\\lib\\site-packages (from ultralytics) (2.1.2)\n",
      "Requirement already satisfied: matplotlib>=3.3.0 in c:\\users\\ai\\miniconda3\\lib\\site-packages (from ultralytics) (3.10.3)\n",
      "Requirement already satisfied: opencv-python>=4.6.0 in c:\\users\\ai\\miniconda3\\lib\\site-packages (from ultralytics) (4.11.0.86)\n",
      "Requirement already satisfied: pillow>=7.1.2 in c:\\users\\ai\\miniconda3\\lib\\site-packages (from ultralytics) (11.0.0)\n",
      "Requirement already satisfied: pyyaml>=5.3.1 in c:\\users\\ai\\miniconda3\\lib\\site-packages (from ultralytics) (6.0.2)\n",
      "Requirement already satisfied: requests>=2.23.0 in c:\\users\\ai\\miniconda3\\lib\\site-packages (from ultralytics) (2.32.3)\n",
      "Requirement already satisfied: scipy>=1.4.1 in c:\\users\\ai\\miniconda3\\lib\\site-packages (from ultralytics) (1.16.0)\n",
      "Requirement already satisfied: torch>=1.8.0 in c:\\users\\ai\\miniconda3\\lib\\site-packages (from ultralytics) (2.7.1+cu118)\n",
      "Requirement already satisfied: torchvision>=0.9.0 in c:\\users\\ai\\miniconda3\\lib\\site-packages (from ultralytics) (0.22.1+cu118)\n",
      "Requirement already satisfied: tqdm>=4.64.0 in c:\\users\\ai\\miniconda3\\lib\\site-packages (from ultralytics) (4.67.1)\n",
      "Requirement already satisfied: psutil in c:\\users\\ai\\miniconda3\\lib\\site-packages (from ultralytics) (5.9.0)\n",
      "Requirement already satisfied: py-cpuinfo in c:\\users\\ai\\miniconda3\\lib\\site-packages (from ultralytics) (9.0.0)\n",
      "Requirement already satisfied: pandas>=1.1.4 in c:\\users\\ai\\miniconda3\\lib\\site-packages (from ultralytics) (2.3.0)\n",
      "Requirement already satisfied: ultralytics-thop>=2.0.0 in c:\\users\\ai\\miniconda3\\lib\\site-packages (from ultralytics) (2.0.14)\n",
      "Requirement already satisfied: contourpy>=1.0.1 in c:\\users\\ai\\miniconda3\\lib\\site-packages (from matplotlib>=3.3.0->ultralytics) (1.3.2)\n",
      "Requirement already satisfied: cycler>=0.10 in c:\\users\\ai\\miniconda3\\lib\\site-packages (from matplotlib>=3.3.0->ultralytics) (0.12.1)\n",
      "Requirement already satisfied: fonttools>=4.22.0 in c:\\users\\ai\\miniconda3\\lib\\site-packages (from matplotlib>=3.3.0->ultralytics) (4.58.4)\n",
      "Requirement already satisfied: kiwisolver>=1.3.1 in c:\\users\\ai\\miniconda3\\lib\\site-packages (from matplotlib>=3.3.0->ultralytics) (1.4.8)\n",
      "Requirement already satisfied: packaging>=20.0 in c:\\users\\ai\\miniconda3\\lib\\site-packages (from matplotlib>=3.3.0->ultralytics) (24.2)\n",
      "Requirement already satisfied: pyparsing>=2.3.1 in c:\\users\\ai\\miniconda3\\lib\\site-packages (from matplotlib>=3.3.0->ultralytics) (3.2.3)\n",
      "Requirement already satisfied: python-dateutil>=2.7 in c:\\users\\ai\\miniconda3\\lib\\site-packages (from matplotlib>=3.3.0->ultralytics) (2.9.0.post0)\n",
      "Requirement already satisfied: pytz>=2020.1 in c:\\users\\ai\\miniconda3\\lib\\site-packages (from pandas>=1.1.4->ultralytics) (2025.2)\n",
      "Requirement already satisfied: tzdata>=2022.7 in c:\\users\\ai\\miniconda3\\lib\\site-packages (from pandas>=1.1.4->ultralytics) (2025.2)\n",
      "Requirement already satisfied: six>=1.5 in c:\\users\\ai\\miniconda3\\lib\\site-packages (from python-dateutil>=2.7->matplotlib>=3.3.0->ultralytics) (1.17.0)\n",
      "Requirement already satisfied: charset-normalizer<4,>=2 in c:\\users\\ai\\miniconda3\\lib\\site-packages (from requests>=2.23.0->ultralytics) (3.3.2)\n",
      "Requirement already satisfied: idna<4,>=2.5 in c:\\users\\ai\\miniconda3\\lib\\site-packages (from requests>=2.23.0->ultralytics) (3.7)\n",
      "Requirement already satisfied: urllib3<3,>=1.21.1 in c:\\users\\ai\\miniconda3\\lib\\site-packages (from requests>=2.23.0->ultralytics) (2.3.0)\n",
      "Requirement already satisfied: certifi>=2017.4.17 in c:\\users\\ai\\miniconda3\\lib\\site-packages (from requests>=2.23.0->ultralytics) (2025.6.15)\n",
      "Requirement already satisfied: filelock in c:\\users\\ai\\miniconda3\\lib\\site-packages (from torch>=1.8.0->ultralytics) (3.13.1)\n",
      "Requirement already satisfied: typing-extensions>=4.10.0 in c:\\users\\ai\\miniconda3\\lib\\site-packages (from torch>=1.8.0->ultralytics) (4.12.2)\n",
      "Requirement already satisfied: sympy>=1.13.3 in c:\\users\\ai\\miniconda3\\lib\\site-packages (from torch>=1.8.0->ultralytics) (1.13.3)\n",
      "Requirement already satisfied: networkx in c:\\users\\ai\\miniconda3\\lib\\site-packages (from torch>=1.8.0->ultralytics) (3.3)\n",
      "Requirement already satisfied: jinja2 in c:\\users\\ai\\miniconda3\\lib\\site-packages (from torch>=1.8.0->ultralytics) (3.1.4)\n",
      "Requirement already satisfied: fsspec in c:\\users\\ai\\miniconda3\\lib\\site-packages (from torch>=1.8.0->ultralytics) (2024.6.1)\n",
      "Requirement already satisfied: setuptools in c:\\users\\ai\\miniconda3\\lib\\site-packages (from torch>=1.8.0->ultralytics) (78.1.1)\n",
      "Requirement already satisfied: mpmath<1.4,>=1.1.0 in c:\\users\\ai\\miniconda3\\lib\\site-packages (from sympy>=1.13.3->torch>=1.8.0->ultralytics) (1.3.0)\n",
      "Requirement already satisfied: colorama in c:\\users\\ai\\miniconda3\\lib\\site-packages (from tqdm>=4.64.0->ultralytics) (0.4.6)\n",
      "Requirement already satisfied: MarkupSafe>=2.0 in c:\\users\\ai\\miniconda3\\lib\\site-packages (from jinja2->torch>=1.8.0->ultralytics) (2.1.5)\n"
     ]
    }
   ],
   "source": [
    "# !pip list # 설치 라이브러리 확인\n",
    "!pip install ultralytics"
   ]
  },
  {
   "cell_type": "code",
   "execution_count": 12,
   "id": "3355beb2",
   "metadata": {},
   "outputs": [],
   "source": [
    "# !pip list"
   ]
  },
  {
   "cell_type": "code",
   "execution_count": 24,
   "id": "dc4f36ce",
   "metadata": {},
   "outputs": [
    {
     "name": "stdout",
     "output_type": "stream",
     "text": [
      "Ultralytics 8.3.173  Python-3.13.5 torch-2.7.1+cu118 CUDA:0 (NVIDIA GeForce RTX 3060 Laptop GPU, 6144MiB)\n",
      "Setup complete  (20 CPUs, 15.7 GB RAM, 10.0/476.0 GB disk)\n"
     ]
    }
   ],
   "source": [
    "# ultralytics 라이브러리 로드 및 GPU 정보\n",
    "import ultralytics\n",
    "\n",
    "ultralytics.checks()"
   ]
  },
  {
   "cell_type": "code",
   "execution_count": 31,
   "id": "53904a1f",
   "metadata": {},
   "outputs": [
    {
     "name": "stderr",
     "output_type": "stream",
     "text": [
      "Downloading https://github.com/ultralytics/assets/releases/download/v8.3.0/yolo11n.pt to 'models\\yolo11n.pt': 100%|██████████| 5.35M/5.35M [00:00<00:00, 7.35MB/s]\n"
     ]
    }
   ],
   "source": [
    "# Load a pre-trained model\n",
    "from ultralytics import YOLO\n",
    "\n",
    "model = YOLO('.\\\\models\\\\yolo11n.pt') # YOLO11 pre-trained model 로드"
   ]
  },
  {
   "cell_type": "code",
   "execution_count": 32,
   "id": "45c04ca2",
   "metadata": {},
   "outputs": [
    {
     "name": "stdout",
     "output_type": "stream",
     "text": [
      "<class 'dict'> 80\n",
      "{0: 'person', 1: 'bicycle', 2: 'car', 3: 'motorcycle', 4: 'airplane', 5: 'bus', 6: 'train', 7: 'truck', 8: 'boat', 9: 'traffic light', 10: 'fire hydrant', 11: 'stop sign', 12: 'parking meter', 13: 'bench', 14: 'bird', 15: 'cat', 16: 'dog', 17: 'horse', 18: 'sheep', 19: 'cow', 20: 'elephant', 21: 'bear', 22: 'zebra', 23: 'giraffe', 24: 'backpack', 25: 'umbrella', 26: 'handbag', 27: 'tie', 28: 'suitcase', 29: 'frisbee', 30: 'skis', 31: 'snowboard', 32: 'sports ball', 33: 'kite', 34: 'baseball bat', 35: 'baseball glove', 36: 'skateboard', 37: 'surfboard', 38: 'tennis racket', 39: 'bottle', 40: 'wine glass', 41: 'cup', 42: 'fork', 43: 'knife', 44: 'spoon', 45: 'bowl', 46: 'banana', 47: 'apple', 48: 'sandwich', 49: 'orange', 50: 'broccoli', 51: 'carrot', 52: 'hot dog', 53: 'pizza', 54: 'donut', 55: 'cake', 56: 'chair', 57: 'couch', 58: 'potted plant', 59: 'bed', 60: 'dining table', 61: 'toilet', 62: 'tv', 63: 'laptop', 64: 'mouse', 65: 'remote', 66: 'keyboard', 67: 'cell phone', 68: 'microwave', 69: 'oven', 70: 'toaster', 71: 'sink', 72: 'refrigerator', 73: 'book', 74: 'clock', 75: 'vase', 76: 'scissors', 77: 'teddy bear', 78: 'hair drier', 79: 'toothbrush'}\n"
     ]
    }
   ],
   "source": [
    "# MS COCO Dataset에 정의되어 있는 클래스 개수와 종류는 model.names를 통해서 확인 할 수 있음(총 80개, 0~79)\n",
    "print(type(model.names), len(model.names))\n",
    "print(model.names)"
   ]
  },
  {
   "cell_type": "code",
   "execution_count": null,
   "id": "0ff33bf8",
   "metadata": {},
   "outputs": [
    {
     "name": "stdout",
     "output_type": "stream",
     "text": [
      "\n",
      "image 1/7 d:\\AI\\Pytorch\\deep-learning\\data\\yolo11_test_image_dir\\test1.jpg: 416x640 1 laptop, 1 cell phone, 58.8ms\n",
      "image 2/7 d:\\AI\\Pytorch\\deep-learning\\data\\yolo11_test_image_dir\\test2.jpg: 384x640 1 person, 1 laptop, 1 cell phone, 49.9ms\n",
      "image 3/7 d:\\AI\\Pytorch\\deep-learning\\data\\yolo11_test_image_dir\\test4.jpg: 640x576 3 zebras, 1 giraffe, 49.9ms\n",
      "image 4/7 d:\\AI\\Pytorch\\deep-learning\\data\\yolo11_test_image_dir\\test5.jpg: 448x640 1 cup, 1 sandwich, 1 dining table, 49.9ms\n",
      "image 5/7 d:\\AI\\Pytorch\\deep-learning\\data\\yolo11_test_image_dir\\test6.jpg: 448x640 4 cups, 1 bowl, 1 sandwich, 1 dining table, 7.2ms\n",
      "image 6/7 d:\\AI\\Pytorch\\deep-learning\\data\\yolo11_test_image_dir\\test7.jpg: 448x640 10 persons, 1 horse, 3 umbrellas, 1 handbag, 7.0ms\n",
      "image 7/7 d:\\AI\\Pytorch\\deep-learning\\data\\yolo11_test_image_dir\\test8.jpg: 448x640 5 persons, 5 cars, 3 horses, 7.5ms\n",
      "Speed: 1.9ms preprocess, 32.9ms inference, 17.5ms postprocess per image at shape (1, 3, 448, 640)\n",
      "Results saved to \u001b[1mruns\\detect\\predict3\u001b[0m\n"
     ]
    }
   ],
   "source": [
    "# YOLO11 Prediction\n",
    "results = model.predict(source='.\\\\data\\\\yolo11_test_image_dir\\\\*.jpg', save=True)"
   ]
  },
  {
   "cell_type": "code",
   "execution_count": null,
   "id": "22d0c78a",
   "metadata": {},
   "outputs": [
    {
     "name": "stdout",
     "output_type": "stream",
     "text": [
      "\n",
      "{class num:counts} =  {np.float32(63.0): np.int64(1), np.float32(67.0): np.int64(1)} \n",
      "\n",
      "class num =  63 , class_name =  laptop\n",
      "class num =  67 , class_name =  cell phone\n",
      "\n",
      "{class num:counts} =  {np.float32(0.0): np.int64(1), np.float32(63.0): np.int64(1), np.float32(67.0): np.int64(1)} \n",
      "\n",
      "class num =  63 , class_name =  laptop\n",
      "class num =  67 , class_name =  cell phone\n",
      "class num =  0 , class_name =  person\n",
      "\n",
      "{class num:counts} =  {np.float32(22.0): np.int64(2), np.float32(23.0): np.int64(1)} \n",
      "\n",
      "class num =  22 , class_name =  zebra\n",
      "class num =  22 , class_name =  zebra\n",
      "class num =  23 , class_name =  giraffe\n",
      "\n",
      "{class num:counts} =  {np.float32(41.0): np.int64(1), np.float32(48.0): np.int64(1), np.float32(60.0): np.int64(1)} \n",
      "\n",
      "class num =  41 , class_name =  cup\n",
      "class num =  48 , class_name =  sandwich\n",
      "class num =  60 , class_name =  dining table\n",
      "\n",
      "{class num:counts} =  {np.float32(41.0): np.int64(3), np.float32(44.0): np.int64(2), np.float32(45.0): np.int64(2), np.float32(48.0): np.int64(1), np.float32(60.0): np.int64(1)} \n",
      "\n",
      "class num =  41 , class_name =  cup\n",
      "class num =  60 , class_name =  dining table\n",
      "class num =  41 , class_name =  cup\n",
      "class num =  48 , class_name =  sandwich\n",
      "class num =  45 , class_name =  bowl\n",
      "class num =  44 , class_name =  spoon\n",
      "class num =  41 , class_name =  cup\n",
      "class num =  45 , class_name =  bowl\n",
      "class num =  44 , class_name =  spoon\n",
      "\n",
      "{class num:counts} =  {np.float32(0.0): np.int64(11), np.float32(7.0): np.int64(1), np.float32(17.0): np.int64(1), np.float32(25.0): np.int64(2), np.float32(26.0): np.int64(1)} \n",
      "\n",
      "class num =  0 , class_name =  person\n",
      "class num =  0 , class_name =  person\n",
      "class num =  0 , class_name =  person\n",
      "class num =  0 , class_name =  person\n",
      "class num =  0 , class_name =  person\n",
      "class num =  17 , class_name =  horse\n",
      "class num =  0 , class_name =  person\n",
      "class num =  25 , class_name =  umbrella\n",
      "class num =  0 , class_name =  person\n",
      "class num =  0 , class_name =  person\n",
      "class num =  25 , class_name =  umbrella\n",
      "class num =  0 , class_name =  person\n",
      "class num =  26 , class_name =  handbag\n",
      "class num =  0 , class_name =  person\n",
      "class num =  0 , class_name =  person\n",
      "class num =  7 , class_name =  truck\n",
      "\n",
      "{class num:counts} =  {np.float32(0.0): np.int64(5), np.float32(2.0): np.int64(5), np.float32(17.0): np.int64(4)} \n",
      "\n",
      "class num =  17 , class_name =  horse\n",
      "class num =  2 , class_name =  car\n",
      "class num =  2 , class_name =  car\n",
      "class num =  0 , class_name =  person\n",
      "class num =  0 , class_name =  person\n",
      "class num =  0 , class_name =  person\n",
      "class num =  0 , class_name =  person\n",
      "class num =  17 , class_name =  horse\n",
      "class num =  2 , class_name =  car\n",
      "class num =  2 , class_name =  car\n",
      "class num =  0 , class_name =  person\n",
      "class num =  2 , class_name =  car\n",
      "class num =  17 , class_name =  horse\n",
      "class num =  17 , class_name =  horse\n"
     ]
    }
   ],
   "source": [
    "# Prediction 결과 정보\n",
    "\n",
    "for result in results: # results = model.predict\n",
    "    uniq, cnt = np.unique(result.boxes.cls.cpu().numpy(), return_counts=True) # tensor -> numpy\n",
    "    uniq_cnt_dict = dict(zip(uniq, cnt))\n",
    "\n",
    "    print('\\n{class num:counts} = ', uniq_cnt_dict, '\\n')\n",
    "\n",
    "    for c in result.boxes.cls:\n",
    "        print('class num = ', int(c), ', class_name = ', model.names[int(c)])"
   ]
  }
 ],
 "metadata": {
  "kernelspec": {
   "display_name": "base",
   "language": "python",
   "name": "python3"
  },
  "language_info": {
   "codemirror_mode": {
    "name": "ipython",
    "version": 3
   },
   "file_extension": ".py",
   "mimetype": "text/x-python",
   "name": "python",
   "nbconvert_exporter": "python",
   "pygments_lexer": "ipython3",
   "version": "3.13.5"
  }
 },
 "nbformat": 4,
 "nbformat_minor": 5
}
