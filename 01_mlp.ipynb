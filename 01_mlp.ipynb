{
 "cells": [
  {
   "cell_type": "code",
   "execution_count": 1,
   "id": "2509198e",
   "metadata": {},
   "outputs": [
    {
     "name": "stdout",
     "output_type": "stream",
     "text": [
      "torch.Size([10, 1]) torch.Size([10, 1])\n"
     ]
    }
   ],
   "source": [
    "# MLP DeepLearning\n",
    "\n",
    "import torch\n",
    "from torch import nn\n",
    "\n",
    "# tensor, 입력데이터가 12이하라면 정답이 0이고 14이상이면 정답이 1이라는 것을 알 수 있음\n",
    "x_train = torch.Tensor( [2,4,6,8,10,12,14,16,18,20] ).view(10,1) # reshape\n",
    "y_train = torch.Tensor( [0,0,0,0,0,0,1,1,1,1] ).view(10,1) \\\n",
    "\n",
    "print(x_train.shape, y_train.shape)"
   ]
  },
  {
   "cell_type": "code",
   "execution_count": 2,
   "id": "d7fa84fa",
   "metadata": {},
   "outputs": [],
   "source": [
    "# DeepLearning Model\n",
    "# 입력층 -> 은닉층 -> 출력층\n",
    "class DeepLearningModel(nn.Module):\n",
    "    def __init__(self, *args):\n",
    "        super().__init__()\n",
    "        self.deeplearning_stack = nn.Sequential(\n",
    "            nn.Linear(1, 8), # 1개의 입력데이터에 대해서 8개의 출력을 내놓는 은닉층\n",
    "            nn.Linear(8, 1), # 8개의 입력데이터에 대해서 1개의 출력을 내놓는 출력층\n",
    "            nn.Sigmoid() # 활성화함수 0~1 사이값 리턴\n",
    "        )\n",
    "    \n",
    "    def forward(self, x):\n",
    "        x = self.deeplearning_stack(x)\n",
    "        return x"
   ]
  },
  {
   "cell_type": "code",
   "execution_count": 3,
   "id": "5f8eef9a",
   "metadata": {},
   "outputs": [
    {
     "name": "stdout",
     "output_type": "stream",
     "text": [
      "deeplearning_stack Parameter containing:\n",
      "tensor([[-0.8941],\n",
      "        [ 0.1179],\n",
      "        [-0.9428],\n",
      "        [-0.6148],\n",
      "        [-0.1327],\n",
      "        [-0.6939],\n",
      "        [-0.7274],\n",
      "        [ 0.7082]], requires_grad=True)\n",
      "deeplearning_stack Parameter containing:\n",
      "tensor([ 0.5467, -0.4592, -0.8792, -0.6073, -0.3293, -0.0361, -0.0652,  0.5157],\n",
      "       requires_grad=True)\n",
      "deeplearning_stack Parameter containing:\n",
      "tensor([[ 0.1783, -0.2244,  0.0507, -0.0163,  0.3268, -0.0215, -0.2577,  0.2859]],\n",
      "       requires_grad=True)\n",
      "deeplearning_stack Parameter containing:\n",
      "tensor([0.2636], requires_grad=True)\n"
     ]
    }
   ],
   "source": [
    "# Model 객체 생성\n",
    "model = DeepLearningModel()\n",
    "\n",
    "# Model 파라미터(가중치, 바이어스) 값 확인\n",
    "for name, child in model.named_children():\n",
    "    for param in child.parameters():\n",
    "        print(name, param)\n",
    "\n",
    "# 입력층-출력층 가중치 8개(1x8)\n",
    "# deeplearning_stack Parameter containing:\n",
    "# tensor([[-0.9416],\n",
    "#         [-0.0063],\n",
    "#         [ 0.4107],\n",
    "#         [ 0.6724],\n",
    "#         [-0.0693],\n",
    "#         [-0.0932],\n",
    "#         [-0.5608],\n",
    "#         [-0.3111]], requires_grad=True)\n",
    "# 은닉층 바이어스 8개\n",
    "# deeplearning_stack Parameter containing:\n",
    "# tensor([-0.7501,  0.1256, -0.3569,  0.3050,  0.8730,  0.7295,  0.6094, -0.3402],\n",
    "#        requires_grad=True)\n",
    "\n",
    "# 은닉층-출력층 가중치 8개(8x1)\n",
    "# deeplearning_stack Parameter containing:\n",
    "# tensor([[ 0.0211,  0.2055,  0.3179,  0.0011, -0.2181,  0.2186, -0.0436,  0.3099]],\n",
    "#        requires_grad=True)\n",
    "# 출력층 바이어스 1개\n",
    "# deeplearning_stack Parameter containing:\n",
    "# tensor([-0.1547], requires_grad=True)"
   ]
  },
  {
   "cell_type": "code",
   "execution_count": 4,
   "id": "b2211c5f",
   "metadata": {},
   "outputs": [],
   "source": [
    "# loss function\n",
    "loss_function = nn.BCELoss() # loss function 이지 분류이므로 Binary CrossEntropy(BCELoss())\n",
    "\n",
    "# optimizer\n",
    "optimizer = torch.optim.SGD(model.parameters(), lr=1e-1) # 확율적경사하강법 SGD(가장 기본)"
   ]
  },
  {
   "cell_type": "code",
   "execution_count": 5,
   "id": "15c80d3b",
   "metadata": {},
   "outputs": [
    {
     "name": "stdout",
     "output_type": "stream",
     "text": [
      "epoch =  0 , loss =  1.03118097782135\n",
      "epoch =  100 , loss =  0.4154469966888428\n",
      "epoch =  200 , loss =  0.32460787892341614\n",
      "epoch =  300 , loss =  0.27399080991744995\n",
      "epoch =  400 , loss =  0.24057264626026154\n",
      "epoch =  500 , loss =  0.21645545959472656\n",
      "epoch =  600 , loss =  0.19803719222545624\n",
      "epoch =  700 , loss =  0.1834041178226471\n",
      "epoch =  800 , loss =  0.17143328487873077\n",
      "epoch =  900 , loss =  0.1614156812429428\n",
      "epoch =  1000 , loss =  0.15287955105304718\n",
      "epoch =  1100 , loss =  0.14549632370471954\n",
      "epoch =  1200 , loss =  0.1390308290719986\n",
      "epoch =  1300 , loss =  0.1333092302083969\n",
      "epoch =  1400 , loss =  0.1281990110874176\n",
      "epoch =  1500 , loss =  0.12359970808029175\n",
      "epoch =  1600 , loss =  0.11943082511425018\n",
      "epoch =  1700 , loss =  0.11562981456518173\n",
      "epoch =  1800 , loss =  0.11214442551136017\n",
      "epoch =  1900 , loss =  0.10893256962299347\n",
      "epoch =  2000 , loss =  0.10596048831939697\n",
      "epoch =  2100 , loss =  0.1031985878944397\n",
      "epoch =  2200 , loss =  0.10062332451343536\n",
      "epoch =  2300 , loss =  0.09821285307407379\n",
      "epoch =  2400 , loss =  0.09595073759555817\n",
      "epoch =  2500 , loss =  0.0938202291727066\n",
      "epoch =  2600 , loss =  0.09181159734725952\n",
      "epoch =  2700 , loss =  0.0899047702550888\n",
      "epoch =  2800 , loss =  0.08810051530599594\n",
      "epoch =  2900 , loss =  0.08648889511823654\n",
      "epoch =  3000 , loss =  0.08494500815868378\n",
      "epoch =  3100 , loss =  0.06882479786872864\n",
      "epoch =  3200 , loss =  0.04318040609359741\n",
      "epoch =  3300 , loss =  0.0445389449596405\n",
      "epoch =  3400 , loss =  0.03530271723866463\n",
      "epoch =  3500 , loss =  0.7399972677230835\n",
      "epoch =  3600 , loss =  0.03310830518603325\n",
      "epoch =  3700 , loss =  0.029033824801445007\n",
      "epoch =  3800 , loss =  0.03304482251405716\n",
      "epoch =  3900 , loss =  0.028818268328905106\n",
      "epoch =  4000 , loss =  0.025522690266370773\n",
      "epoch =  4100 , loss =  0.031906358897686005\n",
      "epoch =  4200 , loss =  0.027642231434583664\n",
      "epoch =  4300 , loss =  0.024469958618283272\n",
      "epoch =  4400 , loss =  0.021919010207057\n",
      "epoch =  4500 , loss =  0.370783269405365\n",
      "epoch =  4600 , loss =  0.02690138854086399\n",
      "epoch =  4700 , loss =  0.023737208917737007\n",
      "epoch =  4800 , loss =  0.021208440884947777\n",
      "epoch =  4900 , loss =  0.019138777628540993\n",
      "epoch =  5000 , loss =  0.01741311140358448\n"
     ]
    }
   ],
   "source": [
    "# Model 학습\n",
    "nums_epoch = 5000\n",
    "\n",
    "for epoch in range(nums_epoch + 1):\n",
    "    # 예측값 계산\n",
    "    outputs = model(x_train)\n",
    "\n",
    "    # 손실함수값 계산\n",
    "    loss = loss_function(outputs, y_train)\n",
    "\n",
    "    # 오차역전파\n",
    "    optimizer.zero_grad() # 미분 초기화\n",
    "    loss.backward() # 미분 연산\n",
    "    optimizer.step() # 미분 연산 후 가중치, 바이어스 파라미터 업데이트\n",
    "\n",
    "    if epoch %100 == 0:\n",
    "        print('epoch = ', epoch, ', loss = ', loss.item())"
   ]
  },
  {
   "cell_type": "code",
   "execution_count": 6,
   "id": "c91e1a82",
   "metadata": {},
   "outputs": [
    {
     "name": "stdout",
     "output_type": "stream",
     "text": [
      "tensor([[8.9543e-14],\n",
      "        [3.7077e-11],\n",
      "        [1.2374e-10],\n",
      "        [8.7088e-03],\n",
      "        [5.2153e-01],\n",
      "        [1.0000e+00]], grad_fn=<SigmoidBackward0>)\n",
      "tensor([[0.],\n",
      "        [0.],\n",
      "        [0.],\n",
      "        [0.],\n",
      "        [1.],\n",
      "        [1.]])\n"
     ]
    }
   ],
   "source": [
    "# Model 테스트\n",
    "model.eval() # 추론 모드 전환\n",
    "\n",
    "test_data = torch.Tensor( [0.5, 3.0, 3.5, 11.0, 13.0, 31.0] ).view(6, 1)\n",
    "\n",
    "# 모델 예측\n",
    "pred = model(test_data)\n",
    "\n",
    "# 예측값 0.5 이상 True -> 1.0 변환, 0.5 이하 False -> 0.0 변환\n",
    "logical_value = (pred > 0.5).float()\n",
    "\n",
    "print(pred)\n",
    "print(logical_value)"
   ]
  },
  {
   "cell_type": "code",
   "execution_count": 9,
   "id": "1ad41b55",
   "metadata": {},
   "outputs": [],
   "source": [
    "# Save the model checkpoint\n",
    "torch.save(model.state_dict(), '.\\\\models\\\\model_mlp.ckpt')"
   ]
  }
 ],
 "metadata": {
  "kernelspec": {
   "display_name": "base",
   "language": "python",
   "name": "python3"
  },
  "language_info": {
   "codemirror_mode": {
    "name": "ipython",
    "version": 3
   },
   "file_extension": ".py",
   "mimetype": "text/x-python",
   "name": "python",
   "nbconvert_exporter": "python",
   "pygments_lexer": "ipython3",
   "version": "3.13.5"
  }
 },
 "nbformat": 4,
 "nbformat_minor": 5
}
