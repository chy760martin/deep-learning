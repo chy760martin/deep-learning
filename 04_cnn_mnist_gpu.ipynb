{
 "cells": [
  {
   "cell_type": "code",
   "execution_count": 2,
   "id": "03b8db06",
   "metadata": {},
   "outputs": [],
   "source": [
    "# CNN(Convolutional Neural Network) - MNIST Dataset\n",
    "\n",
    "# 딥러닝 CNN 아키텍처\n",
    "# Feature Extractor(Conv>Pool>Conv>Pool) -> Fully-Connected(Flatten) -> Classification(Linear>Dropout->Linear)"
   ]
  },
  {
   "cell_type": "code",
   "execution_count": 3,
   "id": "decedca0",
   "metadata": {},
   "outputs": [
    {
     "name": "stdout",
     "output_type": "stream",
     "text": [
      "pytorch version :  2.7.1+cu118 , device :  cuda\n"
     ]
    }
   ],
   "source": [
    "# import, GPU 설정\n",
    "import torch\n",
    "from torch import nn\n",
    "from torch.utils.data import Dataset, DataLoader, random_split\n",
    "from torchvision import datasets, transforms\n",
    "import numpy as np\n",
    "import matplotlib.pyplot as plt\n",
    "from datetime import datetime\n",
    "\n",
    "DEVICE = torch.device('cuda') if torch.cuda.is_available() else torch.device('cpu')\n",
    "print('pytorch version : ', torch.__version__, ', device : ', DEVICE)"
   ]
  },
  {
   "cell_type": "code",
   "execution_count": 4,
   "id": "38674761",
   "metadata": {},
   "outputs": [],
   "source": [
    "# MNIST Dataset 다운로드\n",
    "\n",
    "# train\n",
    "train_dataset = datasets.MNIST(root='.\\\\data\\\\MNIST_data',\n",
    "                               train=True,\n",
    "                               transform=transforms.ToTensor(),\n",
    "                               download=True)\n",
    "# test\n",
    "test_dataset = datasets.MNIST(root='.\\\\data\\\\MNIST_data',\n",
    "                               train=False,\n",
    "                               transform=transforms.ToTensor(),\n",
    "                               download=True)"
   ]
  },
  {
   "cell_type": "code",
   "execution_count": 5,
   "id": "096a9ee3",
   "metadata": {},
   "outputs": [
    {
     "name": "stdout",
     "output_type": "stream",
     "text": [
      "60000 10000\n"
     ]
    }
   ],
   "source": [
    "# MNIST Dataset 확인\n",
    "print(len(train_dataset), len(test_dataset))"
   ]
  },
  {
   "cell_type": "code",
   "execution_count": 6,
   "id": "dbf6822f",
   "metadata": {},
   "outputs": [],
   "source": [
    "# MNIST Dataset 데이터 분리 - train 85% : validation 15%\n",
    "train_dataset_size = int(len(train_dataset) * 0.85) # train 85%\n",
    "validation_dataset_size = int(len(train_dataset) * 0.15) # validation 15%\n",
    "train_dataset, validation_dataset = random_split(dataset=train_dataset,\n",
    "                                                 lengths=[train_dataset_size, validation_dataset_size])"
   ]
  },
  {
   "cell_type": "code",
   "execution_count": 7,
   "id": "ed8e8d48",
   "metadata": {},
   "outputs": [
    {
     "name": "stdout",
     "output_type": "stream",
     "text": [
      "51000 9000 10000\n"
     ]
    }
   ],
   "source": [
    "# MNIST Dataset 데이터 분리 확인\n",
    "print(len(train_dataset), len(validation_dataset), len(test_dataset))"
   ]
  },
  {
   "cell_type": "code",
   "execution_count": 8,
   "id": "f61a6a5a",
   "metadata": {},
   "outputs": [],
   "source": [
    "# batch, dataloader 생성\n",
    "BATCH_SIZE = 32\n",
    "\n",
    "# train\n",
    "train_dataset_loader = DataLoader(dataset=train_dataset,\n",
    "                                  batch_size=BATCH_SIZE,\n",
    "                                  shuffle=True)\n",
    "\n",
    "# validation\n",
    "validation_dataset_loader = DataLoader(dataset=validation_dataset,\n",
    "                                  batch_size=BATCH_SIZE,\n",
    "                                  shuffle=False)\n",
    "\n",
    "# test\n",
    "test_dataset_loader = DataLoader(dataset=test_dataset,\n",
    "                                  batch_size=BATCH_SIZE,\n",
    "                                  shuffle=False)"
   ]
  },
  {
   "cell_type": "code",
   "execution_count": 9,
   "id": "a5244c93",
   "metadata": {},
   "outputs": [
    {
     "name": "stdout",
     "output_type": "stream",
     "text": [
      "{0: '0 - zero', 1: '1 - one', 2: '2 - two', 3: '3 - three', 4: '4 - four', 5: '5 - five', 6: '6 - six', 7: '7 - seven', 8: '8 - eight', 9: '9 - nine'}\n"
     ]
    },
    {
     "data": {
      "image/png": "[encoded data removed]",
      "text/plain": [
       "<Figure size 700x600 with 16 Axes>"
      ]
     },
     "metadata": {},
     "output_type": "display_data"
    }
   ],
   "source": [
    "# MNIST Dataset 1개 배치 데이터 확인\n",
    "images, labels = next(iter(train_dataset_loader))\n",
    "\n",
    "# labels map 생성\n",
    "labels_map = { v:k for k, v in train_dataset.dataset.class_to_idx.items() }\n",
    "print(labels_map)\n",
    "\n",
    "plt.figure(figsize=(7,6))\n",
    "cols, rows = 4, 4\n",
    "\n",
    "for i in range(1, cols * rows + 1):\n",
    "    sample_idx = torch.randint(len(images), size=(1,)).item()\n",
    "    img, label = images[sample_idx], labels[sample_idx].item()\n",
    "    \n",
    "    plt.subplot(cols, rows, i)\n",
    "    plt.imshow(torch.permute(img, (1,2,0)))\n",
    "    plt.axis('off')\n",
    "plt.tight_layout()\n",
    "plt.show()"
   ]
  },
  {
   "cell_type": "code",
   "execution_count": 10,
   "id": "5eab1ff3",
   "metadata": {},
   "outputs": [],
   "source": [
    "# CNN Model\n",
    "# 딥러닝 CNN 아키텍처\n",
    "# Feature Extractor(Conv>Pool>Conv>Pool) -> Fully-Connected(Flatten) -> Classification(Linear>Dropout->Linear)\n",
    "class CNNModel(nn.Module):\n",
    "    def __init__(self):\n",
    "        super().__init__()\n",
    "        self.conv1 = nn.Conv2d(in_channels=1,\n",
    "                               out_channels=32,\n",
    "                               kernel_size=3,\n",
    "                               padding=1)\n",
    "        \n",
    "        self.conv2 = nn.Conv2d(in_channels=32,\n",
    "                               out_channels=64,\n",
    "                               kernel_size=3,\n",
    "                               padding=1)\n",
    "        \n",
    "        self.pooling = nn.MaxPool2d(kernel_size=2,\n",
    "                                    stride=2)\n",
    "        \n",
    "        self.fc1 = nn.Linear(7 * 7 * 64, 256)\n",
    "        self.fc2 = nn.Linear(256, 10)\n",
    "\n",
    "        self.dropout25 = nn.Dropout(p=0.25)\n",
    "        self.dropout50 = nn.Dropout(p=0.5)\n",
    "    \n",
    "    def forward(self, x):\n",
    "        # conv1, data shape = (H, W, C) = (28, 28, 1)\n",
    "        x = self.conv1(x) # (28, 28, 1)\n",
    "        x = torch.relu(x) # (28, 28, 32)\n",
    "        x = self.pooling(x) # (28, 28, 32)\n",
    "        x = self.dropout25(x) # (14, 14, 32)\n",
    "        # conv2\n",
    "        x = self.conv2(x) # (14, 14, 32)\n",
    "        x = torch.relu(x) # (14, 14, 64)\n",
    "        x = self.pooling(x) # (14, 14, 64)\n",
    "        x = self.dropout25(x) # (7, 7, 64)\n",
    "        # data shape\n",
    "        x = x.view(-1, 7 * 7 * 64)\n",
    "\n",
    "        # Linear\n",
    "        x = self.fc1(x)\n",
    "        x = torch.relu(x)\n",
    "        x = self.dropout50(x)\n",
    "        \n",
    "        x = self.fc2(x)\n",
    "\n",
    "        return x"
   ]
  },
  {
   "cell_type": "code",
   "execution_count": 11,
   "id": "e83ce4b4",
   "metadata": {},
   "outputs": [
    {
     "name": "stdout",
     "output_type": "stream",
     "text": [
      "CNNModel(\n",
      "  (conv1): Conv2d(1, 32, kernel_size=(3, 3), stride=(1, 1), padding=(1, 1))\n",
      "  (conv2): Conv2d(32, 64, kernel_size=(3, 3), stride=(1, 1), padding=(1, 1))\n",
      "  (pooling): MaxPool2d(kernel_size=2, stride=2, padding=0, dilation=1, ceil_mode=False)\n",
      "  (fc1): Linear(in_features=3136, out_features=256, bias=True)\n",
      "  (fc2): Linear(in_features=256, out_features=10, bias=True)\n",
      "  (dropout25): Dropout(p=0.25, inplace=False)\n",
      "  (dropout50): Dropout(p=0.5, inplace=False)\n",
      ")\n"
     ]
    }
   ],
   "source": [
    "# Model 객체 생성\n",
    "model = CNNModel().to(DEVICE)\n",
    "\n",
    "# loss function\n",
    "loss_function = nn.CrossEntropyLoss() # Softmax() 함수 포함되어 있음\n",
    "\n",
    "# optimizer\n",
    "optimizer = torch.optim.Adam(model.parameters(), lr=1e-3)\n",
    "\n",
    "# Model 정보\n",
    "print(model)"
   ]
  },
  {
   "cell_type": "code",
   "execution_count": 12,
   "id": "53a10568",
   "metadata": {},
   "outputs": [],
   "source": [
    "# Model train 함수\n",
    "def model_train(dataloader, model, loss_function, optimizer):\n",
    "    model.train() # 확습모드\n",
    "\n",
    "    train_loss_sum = 0\n",
    "    train_correct = 0\n",
    "    train_total = 0\n",
    "    total_train_batch = len(dataloader)\n",
    "\n",
    "    for images, labels in dataloader:\n",
    "        # 처음 크기는 (batch_size, 1, 28, 28) -> (batch_size, 784) 1차원 벡터로 변환\n",
    "        x_train = images.to(DEVICE)\n",
    "        y_train = labels.to(DEVICE)\n",
    "\n",
    "        # 모델 예측값 게산\n",
    "        outputs = model(x_train)\n",
    "\n",
    "        # 손실함수값 계산\n",
    "        loss = loss_function(outputs, y_train)\n",
    "\n",
    "        # 오차역전파\n",
    "        optimizer.zero_grad() # 미분 연산 초기화\n",
    "        loss.backward() # 미분 연산\n",
    "        optimizer.step() # 미분 연산 후 가중치 바이어스 파라미터 업데이트\n",
    "\n",
    "        train_loss_sum += loss.item()\n",
    "        train_total += y_train.size(0)\n",
    "        train_correct += (torch.argmax(outputs, 1) == y_train).sum().item()\n",
    "    train_avg_loss = train_loss_sum / total_train_batch # 평균 오차 계산\n",
    "    train_avg_accuracy = 100 * train_correct / train_total # 평균 정확도 계산\n",
    "\n",
    "    return train_avg_loss, train_avg_accuracy"
   ]
  },
  {
   "cell_type": "code",
   "execution_count": 13,
   "id": "d28e3f81",
   "metadata": {},
   "outputs": [],
   "source": [
    "# Model evaluate 함수\n",
    "def model_evaluate(dataloader, model, loss_function, optimizer):\n",
    "    model.eval() # 추론모드\n",
    "\n",
    "    with torch.no_grad(): # 미분 연산 하지 않음\n",
    "        val_loss_sum = 0\n",
    "        val_correct = 0\n",
    "        val_total = 0\n",
    "        total_val_batch = len(dataloader)\n",
    "\n",
    "        for images, labels in dataloader:\n",
    "            # 처음 크기는 (batch_size, 1, 28, 28) -> (batch_size, 784) 1차원 벡터로 변환\n",
    "            x_val = images.to(DEVICE)\n",
    "            y_val = labels.to(DEVICE)\n",
    "\n",
    "            # 모델 예측값 게산\n",
    "            outputs = model(x_val)\n",
    "\n",
    "            # 손실함수값 계산\n",
    "            loss = loss_function(outputs, y_val)\n",
    "\n",
    "            # 오차역전파\n",
    "            # optimizer.zero_grad() # 미분 연산 초기화\n",
    "            # loss.backward() # 미분 연산\n",
    "            # optimizer.step() # 미분 연산 후 가중치 바이어스 파라미터 업데이트\n",
    "\n",
    "            val_loss_sum += loss.item()\n",
    "            val_total += y_val.size(0)\n",
    "            val_correct += (torch.argmax(outputs, 1) == y_val).sum().item()\n",
    "        val_avg_loss = val_loss_sum / total_val_batch # 평균 오차 계산\n",
    "        val_avg_accuracy = 100 * val_correct / val_total # 평균 정확도 계산\n",
    "\n",
    "        return val_avg_loss, val_avg_accuracy"
   ]
  },
  {
   "cell_type": "code",
   "execution_count": 14,
   "id": "41646968",
   "metadata": {},
   "outputs": [],
   "source": [
    "# Model test 함수\n",
    "def model_test(dataloader, model):\n",
    "    model.eval() # 추론모드\n",
    "\n",
    "    with torch.no_grad(): # 미분 연산 하지 않음\n",
    "        test_loss_sum = 0\n",
    "        test_correct = 0\n",
    "        test_total = 0\n",
    "        total_test_batch = len(dataloader)\n",
    "\n",
    "        for images, labels in dataloader:\n",
    "            # 처음 크기는 (batch_size, 1, 28, 28) -> (batch_size, 784) 1차원 벡터로 변환\n",
    "            x_test = images.to(DEVICE)\n",
    "            y_test = labels.to(DEVICE)\n",
    "\n",
    "            # 모델 예측값 게산\n",
    "            outputs = model(x_test)\n",
    "\n",
    "            # 손실함수값 계산\n",
    "            loss = loss_function(outputs, y_test)\n",
    "\n",
    "            # 오차역전파\n",
    "            # optimizer.zero_grad() # 미분 연산 초기화\n",
    "            # loss.backward() # 미분 연산\n",
    "            # optimizer.step() # 미분 연산 후 가중치 바이어스 파라미터 업데이트\n",
    "\n",
    "            test_loss_sum += loss.item()\n",
    "            test_total += y_test.size(0)\n",
    "            test_correct += (torch.argmax(outputs, 1) == y_test).sum().item()\n",
    "        test_avg_loss = test_loss_sum / total_test_batch\n",
    "        test_avg_accuracy = 100 * test_correct / test_total\n",
    "\n",
    "        return test_avg_loss, test_avg_accuracy"
   ]
  },
  {
   "cell_type": "code",
   "execution_count": 15,
   "id": "425d94ed",
   "metadata": {},
   "outputs": [
    {
     "name": "stdout",
     "output_type": "stream",
     "text": [
      "epoch :  01 train loss =  0.241302 , train acc =  92.462745 val loss =  0.062908 , val acc =  98.022222\n",
      "epoch :  02 train loss =  0.094604 , train acc =  97.150980 val loss =  0.046209 , val acc =  98.533333\n",
      "epoch :  03 train loss =  0.072266 , train acc =  97.776471 val loss =  0.036167 , val acc =  98.811111\n",
      "epoch :  04 train loss =  0.060741 , train acc =  98.113725 val loss =  0.040323 , val acc =  98.666667\n",
      "epoch :  05 train loss =  0.055562 , train acc =  98.294118 val loss =  0.039824 , val acc =  98.744444\n",
      "epoch :  06 train loss =  0.048227 , train acc =  98.478431 val loss =  0.035616 , val acc =  98.955556\n",
      "epoch :  07 train loss =  0.045026 , train acc =  98.590196 val loss =  0.031025 , val acc =  99.055556\n",
      "epoch :  08 train loss =  0.039009 , train acc =  98.798039 val loss =  0.033951 , val acc =  98.888889\n",
      "epoch :  09 train loss =  0.038219 , train acc =  98.858824 val loss =  0.031770 , val acc =  99.077778\n",
      "epoch :  10 train loss =  0.033968 , train acc =  98.886275 val loss =  0.035565 , val acc =  98.977778\n",
      "epoch :  11 train loss =  0.031166 , train acc =  98.976471 val loss =  0.033678 , val acc =  99.100000\n",
      "epoch :  12 train loss =  0.030230 , train acc =  99.043137 val loss =  0.031103 , val acc =  99.133333\n",
      "epoch :  13 train loss =  0.030493 , train acc =  99.007843 val loss =  0.031503 , val acc =  99.100000\n",
      "epoch :  14 train loss =  0.028665 , train acc =  99.047059 val loss =  0.032532 , val acc =  99.155556\n",
      "epoch :  15 train loss =  0.029857 , train acc =  99.080392 val loss =  0.031372 , val acc =  99.177778\n",
      "epoch :  16 train loss =  0.027525 , train acc =  99.123529 val loss =  0.037463 , val acc =  98.988889\n",
      "epoch :  17 train loss =  0.025750 , train acc =  99.172549 val loss =  0.034108 , val acc =  99.188889\n",
      "epoch :  18 train loss =  0.024312 , train acc =  99.182353 val loss =  0.033522 , val acc =  99.233333\n",
      "epoch :  19 train loss =  0.024363 , train acc =  99.254902 val loss =  0.031195 , val acc =  99.200000\n",
      "epoch :  20 train loss =  0.021093 , train acc =  99.329412 val loss =  0.034918 , val acc =  99.133333\n",
      "elapsed time =>  0:02:30.519343\n"
     ]
    }
   ],
   "source": [
    "# Model 학습 \n",
    "train_loss_list = []\n",
    "train_accuracy_list = []\n",
    "\n",
    "val_loss_list = []\n",
    "val_accuracy_list = []\n",
    "\n",
    "start_time = datetime.now()\n",
    "\n",
    "EPOCHS = 20\n",
    "\n",
    "for epoch in range(EPOCHS):\n",
    "    # train\n",
    "    train_avg_loss, train_avg_accuracy = model_train(dataloader=train_dataset_loader,\n",
    "                                                     model=model,\n",
    "                                                     loss_function=loss_function,\n",
    "                                                     optimizer=optimizer)\n",
    "    train_loss_list.append(train_avg_loss)\n",
    "    train_accuracy_list.append(train_avg_accuracy)\n",
    "\n",
    "    # evaluate\n",
    "    val_avg_loss, val_avg_accuracy = model_evaluate(dataloader=validation_dataset_loader,\n",
    "                                                     model=model,\n",
    "                                                     loss_function=loss_function,\n",
    "                                                     optimizer=optimizer)\n",
    "    val_loss_list.append(val_avg_loss)\n",
    "    val_accuracy_list.append(val_avg_accuracy)\n",
    "\n",
    "    # print\n",
    "    print(\n",
    "        'epoch : ', '%02d' % (epoch + 1),\n",
    "        'train loss = ', '{:4f}'.format(train_avg_loss), ', train acc = ', '{:4f}'.format(train_avg_accuracy),\n",
    "        'val loss = ', '{:4f}'.format(val_avg_loss), ', val acc = ', '{:4f}'.format(val_avg_accuracy)\n",
    "    )\n",
    "\n",
    "# time\n",
    "end_time = datetime.now()\n",
    "print('elapsed time => ', end_time -start_time)"
   ]
  },
  {
   "cell_type": "code",
   "execution_count": 16,
   "id": "a0645fe5",
   "metadata": {},
   "outputs": [
    {
     "data": {
      "text/plain": [
       "(0.0209576798805769, 99.4)"
      ]
     },
     "execution_count": 16,
     "metadata": {},
     "output_type": "execute_result"
    }
   ],
   "source": [
    "# Test Dataset 정확도, 오차 테스트\n",
    "model_test(dataloader=test_dataset_loader,\n",
    "            model=model)"
   ]
  },
  {
   "cell_type": "code",
   "execution_count": 17,
   "id": "850c81a0",
   "metadata": {},
   "outputs": [
    {
     "data": {
      "image/png": "[encoded data removed]",
      "text/plain": [
       "<Figure size 640x480 with 1 Axes>"
      ]
     },
     "metadata": {},
     "output_type": "display_data"
    }
   ],
   "source": [
    "# 시각화 - 손실함수\n",
    "plt.title('Loss Trend')\n",
    "plt.xlabel('epoch')\n",
    "plt.ylabel('loss')\n",
    "plt.plot(train_loss_list, label='train loss')\n",
    "plt.plot(val_loss_list, label='validation loss')\n",
    "plt.grid()\n",
    "plt.legend(loc='best')\n",
    "plt.show()\n"
   ]
  },
  {
   "cell_type": "code",
   "execution_count": 18,
   "id": "12abeddb",
   "metadata": {},
   "outputs": [
    {
     "data": {
      "image/png": "[encoded data removed]",
      "text/plain": [
       "<Figure size 640x480 with 1 Axes>"
      ]
     },
     "metadata": {},
     "output_type": "display_data"
    }
   ],
   "source": [
    "# 시각화 - 정확도\n",
    "plt.title('Accuracy Trend')\n",
    "plt.xlabel('accuracy')\n",
    "plt.ylabel('loss')\n",
    "plt.plot(train_accuracy_list, label='train accuracy')\n",
    "plt.plot(val_accuracy_list, label='validation accuracy')\n",
    "plt.grid()\n",
    "plt.legend(loc='best')\n",
    "plt.show()\n"
   ]
  },
  {
   "cell_type": "code",
   "execution_count": 19,
   "id": "1a083b0e",
   "metadata": {},
   "outputs": [],
   "source": [
    "# Save the model checkpoint\n",
    "torch.save(model.state_dict(), '.\\\\models\\\\model_cnn_mnist.ckpt')"
   ]
  }
 ],
 "metadata": {
  "kernelspec": {
   "display_name": "base",
   "language": "python",
   "name": "python3"
  },
  "language_info": {
   "codemirror_mode": {
    "name": "ipython",
    "version": 3
   },
   "file_extension": ".py",
   "mimetype": "text/x-python",
   "name": "python",
   "nbconvert_exporter": "python",
   "pygments_lexer": "ipython3",
   "version": "3.13.5"
  }
 },
 "nbformat": 4,
 "nbformat_minor": 5
}
