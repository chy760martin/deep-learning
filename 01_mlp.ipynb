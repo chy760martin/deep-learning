{
 "cells": [
  {
   "cell_type": "code",
   "execution_count": null,
   "id": "99eee957",
   "metadata": {},
   "outputs": [],
   "source": [
    "# MLP DeepLearning -  MLP 모델을 기반으로 성능 평가 및 시각화 강화\n",
    "# Dataset 및 DataLoader를 활용한 데이터 처리\n",
    "# 하이퍼파라미터 튜닝(학습률, 은닉층 크기 등)\n",
    "# 정확도 계산(accuracy_score), 혼돈 행렬 계산(confusion_matrix), Confusion Matrix 시각화, 정밀도, 재현율, F1-score 등 출력(classification_report)\n",
    "# 모델 저장 및 불러오기\n",
    "# 테스트 및 시각화"
   ]
  },
  {
   "cell_type": "code",
   "execution_count": 27,
   "id": "2509198e",
   "metadata": {},
   "outputs": [
    {
     "name": "stdout",
     "output_type": "stream",
     "text": [
      "Pytorch Version  :  2.8.0+cpu Device :  cpu\n"
     ]
    }
   ],
   "source": [
    "# 1) 라이브러리 임포터 및 GPU 설정\n",
    "\n",
    "import torch\n",
    "from torch import nn\n",
    "from torch.utils.data import Dataset, DataLoader\n",
    "from sklearn.metrics import accuracy_score, confusion_matrix, classification_report\n",
    "import seaborn as sns\n",
    "import matplotlib.pyplot as plt\n",
    "import os\n",
    "\n",
    "\n",
    "device = torch.device('cuda') if torch.cuda.is_available() else torch.device('cpu')\n",
    "print('Pytorch Version  : ', torch.__version__, 'Device : ', device)"
   ]
  },
  {
   "cell_type": "code",
   "execution_count": 28,
   "id": "d7fa84fa",
   "metadata": {},
   "outputs": [],
   "source": [
    "# 2) 커스텀 Dataset 클래스 정의\n",
    "class BinaryDataset(Dataset):\n",
    "    def __init__(self):\n",
    "        self.x_data = torch.tensor( [2,4,6,8,10,12,14,16,18,20], dtype=torch.float32 ).view(-1, 1)\n",
    "        self.y_data = torch.tensor( [0,0,0,0,0,0,1,1,1,1], dtype=torch.float32 ).view(-1, 1)\n",
    "    \n",
    "    def __len__(self):\n",
    "        return len(self.x_data)\n",
    "    \n",
    "    def __getitem__(self, index):\n",
    "        return self.x_data[index], self.y_data[index]"
   ]
  },
  {
   "cell_type": "code",
   "execution_count": 29,
   "id": "5f8eef9a",
   "metadata": {},
   "outputs": [],
   "source": [
    "# 3) DataLoader 생성\n",
    "dataset = BinaryDataset()\n",
    "train_loader = DataLoader(dataset=dataset, batch_size=2, shuffle=True)"
   ]
  },
  {
   "cell_type": "code",
   "execution_count": 30,
   "id": "b2211c5f",
   "metadata": {},
   "outputs": [],
   "source": [
    "# 4) 모델 클래스 정의(하이퍼파라미터 튜닝 기능)\n",
    "class MLPModel(nn.Module):\n",
    "    def __init__(self, input_dim=1, hidden_dim=8, output_dim=1):\n",
    "        super().__init__()\n",
    "\n",
    "        self.net = nn.Sequential(\n",
    "            nn.Linear(input_dim, hidden_dim),\n",
    "            nn.ReLU(),\n",
    "            nn.Linear(hidden_dim, output_dim),\n",
    "            nn.Sigmoid()\n",
    "        )\n",
    "    \n",
    "    def forward(self, x):\n",
    "        x = self.net(x)\n",
    "        return x"
   ]
  },
  {
   "cell_type": "code",
   "execution_count": 31,
   "id": "15c80d3b",
   "metadata": {},
   "outputs": [],
   "source": [
    "# 5) 모델 초기화 및 학습 설정\n",
    "model = MLPModel(hidden_dim=16).to(device) # 은닉층 크기 튜닝\n",
    "\n",
    "loss_fn = nn.BCELoss() # 손실함수\n",
    "optimizer = torch.optim.Adam(model.parameters(), lr=0.01) # 옵티마이저"
   ]
  },
  {
   "cell_type": "code",
   "execution_count": 32,
   "id": "c91e1a82",
   "metadata": {},
   "outputs": [
    {
     "name": "stdout",
     "output_type": "stream",
     "text": [
      "[  100 ] Loss: 0.1623\n",
      "[  200 ] Loss: 0.0039\n",
      "[  300 ] Loss: 0.0009\n",
      "[  400 ] Loss: 0.1042\n",
      "[  500 ] Loss: 0.0007\n",
      "[  600 ] Loss: 0.0467\n",
      "[  700 ] Loss: 0.0002\n",
      "[  800 ] Loss: 0.0264\n",
      "[  900 ] Loss: 0.0000\n",
      "[ 1000 ] Loss: 0.0118\n"
     ]
    }
   ],
   "source": [
    "# 6) 학습 루프\n",
    "epochs = 1000\n",
    "for epoch in range(1, epochs + 1):\n",
    "    model.train() # 학습모드\n",
    "    for x_batch, y_batch in train_loader:\n",
    "        x_batch = x_batch.to(device)\n",
    "        y_batch = y_batch.to(device)\n",
    "\n",
    "        pred = model(x_batch) # 모델 예측\n",
    "        loss = loss_fn(pred, y_batch) # 손실함수 계산\n",
    "\n",
    "        # 오차역전차\n",
    "        optimizer.zero_grad() # 미분 초기화(가중치, 바이어스 파라미터 초기화)\n",
    "        loss.backward() # 미분 연산\n",
    "        optimizer.step() # 미분 연산 후 가중치, 바이어스 파라미터 업데이트\n",
    "\n",
    "    if epoch % 100 == 0:\n",
    "        print(f'[ {epoch:4d} ] Loss: {loss.item():.4f}')\n"
   ]
  },
  {
   "cell_type": "code",
   "execution_count": 33,
   "id": "5d9cdcc7",
   "metadata": {},
   "outputs": [
    {
     "name": "stdout",
     "output_type": "stream",
     "text": [
      "Accuracy : 1.0000\n"
     ]
    }
   ],
   "source": [
    "# 7) 예측값 생성 및 평가\n",
    "model.eval() # 추론 모드\n",
    "with torch.no_grad(): # 미분 연산하지 않음\n",
    "    pred = model(dataset.x_data.to(device)) # 모델 예측\n",
    "    pred_label = (pred > 0.5).float().cpu() # 모델 예측값 변환\n",
    "\n",
    "# 실제 정답\n",
    "true_label = dataset.y_data.cpu()\n",
    "\n",
    "# 정확도 계산\n",
    "acc = accuracy_score(true_label.numpy(), pred_label.numpy())\n",
    "print(f'Accuracy : {acc:.4f}')"
   ]
  },
  {
   "cell_type": "code",
   "execution_count": 34,
   "id": "c31768e8",
   "metadata": {},
   "outputs": [
    {
     "data": {
      "image/png": "[encoded data removed]",
      "text/plain": [
       "<Figure size 400x300 with 2 Axes>"
      ]
     },
     "metadata": {},
     "output_type": "display_data"
    }
   ],
   "source": [
    "# 8) Confusion Matrix 시각화\n",
    "\n",
    "# 혼돈 행렬 계산\n",
    "cm = confusion_matrix(true_label.numpy(), pred_label.numpy())\n",
    "\n",
    "# 시각화\n",
    "plt.figure(figsize=(4, 3))\n",
    "sns.heatmap(cm, annot=True, fmt='d', cmap='Blues', xticklabels=['Pred 0', 'Pred 1'], yticklabels=['True 0', 'True 1'])\n",
    "plt.title('confusion matrix')\n",
    "plt.xlabel('Prediction')\n",
    "plt.ylabel('Actual')\n",
    "plt.tight_layout()\n",
    "plt.show()"
   ]
  },
  {
   "cell_type": "code",
   "execution_count": 35,
   "id": "1877d349",
   "metadata": {},
   "outputs": [
    {
     "name": "stdout",
     "output_type": "stream",
     "text": [
      "classification_report :\n",
      "               precision    recall  f1-score   support\n",
      "\n",
      "     class 0       1.00      1.00      1.00         6\n",
      "     class 1       1.00      1.00      1.00         4\n",
      "\n",
      "    accuracy                           1.00        10\n",
      "   macro avg       1.00      1.00      1.00        10\n",
      "weighted avg       1.00      1.00      1.00        10\n",
      "\n"
     ]
    }
   ],
   "source": [
    "# 9) Classification Report 출력\n",
    "\n",
    "# 정밀도, 재현율, F1-score 등 출력\n",
    "report = classification_report(true_label.numpy(), pred_label.numpy(), target_names=['class 0', 'class 1'])\n",
    "print(f'classification_report :\\n', report)"
   ]
  },
  {
   "cell_type": "code",
   "execution_count": 36,
   "id": "1ad41b55",
   "metadata": {},
   "outputs": [],
   "source": [
    "# 10) 모델 저장\n",
    "os.makedirs('./models', exist_ok=True)\n",
    "torch.save(model.state_dict(), './models/mlp_model.ckpt')"
   ]
  },
  {
   "cell_type": "code",
   "execution_count": 37,
   "id": "aa8b64bd",
   "metadata": {},
   "outputs": [
    {
     "data": {
      "text/plain": [
       "MLPModel(\n",
       "  (net): Sequential(\n",
       "    (0): Linear(in_features=1, out_features=16, bias=True)\n",
       "    (1): ReLU()\n",
       "    (2): Linear(in_features=16, out_features=1, bias=True)\n",
       "    (3): Sigmoid()\n",
       "  )\n",
       ")"
      ]
     },
     "execution_count": 37,
     "metadata": {},
     "output_type": "execute_result"
    }
   ],
   "source": [
    "# 11) 모델 불러오기\n",
    "loaded_model = MLPModel(hidden_dim=16).to(device)\n",
    "loaded_model.load_state_dict(torch.load('./models/mlp_model.ckpt'))\n",
    "loaded_model.eval() # 추론 모드"
   ]
  },
  {
   "cell_type": "code",
   "execution_count": 38,
   "id": "0805e8bf",
   "metadata": {},
   "outputs": [
    {
     "name": "stdout",
     "output_type": "stream",
     "text": [
      "Prediction : \n",
      " tensor([[2.7238e-16],\n",
      "        [2.5612e-14],\n",
      "        [6.2574e-14],\n",
      "        [1.0599e-03],\n",
      "        [5.3779e-01],\n",
      "        [1.0000e+00]])\n",
      "Logical : \n",
      " tensor([[0.],\n",
      "        [0.],\n",
      "        [0.],\n",
      "        [0.],\n",
      "        [1.],\n",
      "        [1.]])\n"
     ]
    },
    {
     "data": {
      "image/png": "[encoded data removed]",
      "text/plain": [
       "<Figure size 640x480 with 1 Axes>"
      ]
     },
     "metadata": {},
     "output_type": "display_data"
    }
   ],
   "source": [
    "# 12) 테스트 및 시각화\n",
    "test_data = torch.tensor( [0.5, 3.0, 3.5, 11.0, 13.0, 31.0], dtype=torch.float32 ).view(-1, 1)\n",
    "with torch.no_grad(): # 미분 연산 하지 않음\n",
    "    pred = loaded_model(test_data.to(device))\n",
    "    logical = (pred > 0.5).float()\n",
    "\n",
    "print('Prediction : \\n', pred)\n",
    "print('Logical : \\n', logical)\n",
    "\n",
    "plt.plot(test_data.cpu().numpy(), pred.cpu().numpy(), 'ro')\n",
    "plt.title('MLP Prediction')\n",
    "plt.xlabel('Input')\n",
    "plt.ylabel('Probability')\n",
    "plt.grid()\n",
    "plt.show()"
   ]
  }
 ],
 "metadata": {
  "kernelspec": {
   "display_name": ".venv",
   "language": "python",
   "name": "python3"
  },
  "language_info": {
   "codemirror_mode": {
    "name": "ipython",
    "version": 3
   },
   "file_extension": ".py",
   "mimetype": "text/x-python",
   "name": "python",
   "nbconvert_exporter": "python",
   "pygments_lexer": "ipython3",
   "version": "3.12.2"
  }
 },
 "nbformat": 4,
 "nbformat_minor": 5
}
