{
 "cells": [
  {
   "cell_type": "code",
   "execution_count": 1,
   "id": "796b38ff",
   "metadata": {},
   "outputs": [
    {
     "data": {
      "text/plain": [
       "Dataset({\n",
       "    features: ['guid', 'title', 'label', 'url', 'date'],\n",
       "    num_rows: 45678\n",
       "})"
      ]
     },
     "execution_count": 1,
     "metadata": {},
     "output_type": "execute_result"
    }
   ],
   "source": [
    "# 모델 학습시키기\n",
    "# 모델 학습에 사용할 연합뉴스 데이터셋 다운로드\n",
    "from datasets import load_dataset\n",
    "klue_tc_train = load_dataset('klue', 'ynat', split='train')\n",
    "klue_tc_eval = load_dataset('klue', 'ynat', split='validation')\n",
    "klue_tc_train"
   ]
  },
  {
   "cell_type": "code",
   "execution_count": null,
   "id": "c85414b3",
   "metadata": {},
   "outputs": [
    {
     "data": {
      "text/plain": [
       "{'guid': 'ynat-v1_train_00000',\n",
       " 'title': '유튜브 내달 2일까지 크리에이터 지원 공간 운영',\n",
       " 'label': 3,\n",
       " 'url': 'https://news.naver.com/main/read.nhn?mode=LS2D&mid=shm&sid1=105&sid2=227&oid=001&aid=0008508947',\n",
       " 'date': '2016.06.30. 오전 10:36'}"
      ]
     },
     "execution_count": 2,
     "metadata": {},
     "output_type": "execute_result"
    }
   ],
   "source": [
    "# 데이터 확인\n",
    "klue_tc_train[0]"
   ]
  },
  {
   "cell_type": "code",
   "execution_count": null,
   "id": "7991fe11",
   "metadata": {},
   "outputs": [
    {
     "data": {
      "text/plain": [
       "['IT과학', '경제', '사회', '생활문화', '세계', '스포츠', '정치']"
      ]
     },
     "execution_count": 3,
     "metadata": {},
     "output_type": "execute_result"
    }
   ],
   "source": [
    "# 데이터 확인\n",
    "klue_tc_train.features['label'].names\n",
    "# ['IT과학', '경제', '사회', '생활문화', '세계', '스포츠', '정치']"
   ]
  },
  {
   "cell_type": "code",
   "execution_count": null,
   "id": "a6a81122",
   "metadata": {},
   "outputs": [
    {
     "data": {
      "text/plain": [
       "Dataset({\n",
       "    features: ['title', 'label'],\n",
       "    num_rows: 45678\n",
       "})"
      ]
     },
     "execution_count": 4,
     "metadata": {},
     "output_type": "execute_result"
    }
   ],
   "source": [
    "# 데이터 전처리 - 불필요한 컬럼 제거\n",
    "klue_tc_train = klue_tc_train.remove_columns(['guid', 'url', 'date'])\n",
    "klue_tc_eval = klue_tc_eval.remove_columns(['guid', 'url', 'date'])\n",
    "klue_tc_train"
   ]
  },
  {
   "cell_type": "code",
   "execution_count": null,
   "id": "82291c73",
   "metadata": {},
   "outputs": [
    {
     "data": {
      "text/plain": [
       "{'title': '유튜브 내달 2일까지 크리에이터 지원 공간 운영', 'label': 3, 'label_str': '생활문화'}"
      ]
     },
     "execution_count": 5,
     "metadata": {},
     "output_type": "execute_result"
    }
   ],
   "source": [
    "# 데이터 전처리 - 카테고리를 문자로 표기한 label_str 컬럼 추가\n",
    "klue_tc_train.features['label']\n",
    "# ClassLabel(names=['IT과학', '경제', '사회', '생활문화', '세계', '스포츠', '정치'], id=None)\n",
    "\n",
    "klue_tc_train.features['label'].int2str(1)\n",
    "# '경제'\n",
    "\n",
    "klue_tc_label = klue_tc_train.features['label']\n",
    "\n",
    "def make_str_label(batch):\n",
    "  batch['label_str'] = klue_tc_label.int2str(batch['label'])\n",
    "  return batch\n",
    "\n",
    "klue_tc_train = klue_tc_train.map(make_str_label, batched=True, batch_size=1000)\n",
    "\n",
    "klue_tc_train[0]\n",
    "# {'title': '유튜브 내달 2일까지 크리에이터 지원 공간 운영', 'label': 3, 'label_str': '생활문화'}"
   ]
  },
  {
   "cell_type": "code",
   "execution_count": null,
   "id": "d68e41cd",
   "metadata": {},
   "outputs": [],
   "source": [
    "# 학습/검증/테스트 데이터셋 분할 - 데이터 셋 준비\n",
    "train_dataset = klue_tc_train.train_test_split(test_size=10000, shuffle=True, seed=42)['test'] # 10,000개 추출\n",
    "dataset = klue_tc_eval.train_test_split(test_size=1000, shuffle=True, seed=42) # 1,000개 추출\n",
    "test_dataset = dataset['test']\n",
    "valid_dataset = dataset['train'].train_test_split(test_size=1000, shuffle=True, seed=42)['test'] # 1,000개 추출"
   ]
  },
  {
   "cell_type": "code",
   "execution_count": null,
   "id": "01ee1870",
   "metadata": {},
   "outputs": [
    {
     "name": "stderr",
     "output_type": "stream",
     "text": [
      "Some weights of RobertaForSequenceClassification were not initialized from the model checkpoint at klue/roberta-base and are newly initialized: ['classifier.dense.bias', 'classifier.dense.weight', 'classifier.out_proj.bias', 'classifier.out_proj.weight']\n",
      "You should probably TRAIN this model on a down-stream task to be able to use it for predictions and inference.\n"
     ]
    },
    {
     "data": {
      "text/plain": [
       "RobertaForSequenceClassification(\n",
       "  (roberta): RobertaModel(\n",
       "    (embeddings): RobertaEmbeddings(\n",
       "      (word_embeddings): Embedding(32000, 768, padding_idx=1)\n",
       "      (position_embeddings): Embedding(514, 768, padding_idx=1)\n",
       "      (token_type_embeddings): Embedding(1, 768)\n",
       "      (LayerNorm): LayerNorm((768,), eps=1e-05, elementwise_affine=True)\n",
       "      (dropout): Dropout(p=0.1, inplace=False)\n",
       "    )\n",
       "    (encoder): RobertaEncoder(\n",
       "      (layer): ModuleList(\n",
       "        (0-11): 12 x RobertaLayer(\n",
       "          (attention): RobertaAttention(\n",
       "            (self): RobertaSdpaSelfAttention(\n",
       "              (query): Linear(in_features=768, out_features=768, bias=True)\n",
       "              (key): Linear(in_features=768, out_features=768, bias=True)\n",
       "              (value): Linear(in_features=768, out_features=768, bias=True)\n",
       "              (dropout): Dropout(p=0.1, inplace=False)\n",
       "            )\n",
       "            (output): RobertaSelfOutput(\n",
       "              (dense): Linear(in_features=768, out_features=768, bias=True)\n",
       "              (LayerNorm): LayerNorm((768,), eps=1e-05, elementwise_affine=True)\n",
       "              (dropout): Dropout(p=0.1, inplace=False)\n",
       "            )\n",
       "          )\n",
       "          (intermediate): RobertaIntermediate(\n",
       "            (dense): Linear(in_features=768, out_features=3072, bias=True)\n",
       "            (intermediate_act_fn): GELUActivation()\n",
       "          )\n",
       "          (output): RobertaOutput(\n",
       "            (dense): Linear(in_features=3072, out_features=768, bias=True)\n",
       "            (LayerNorm): LayerNorm((768,), eps=1e-05, elementwise_affine=True)\n",
       "            (dropout): Dropout(p=0.1, inplace=False)\n",
       "          )\n",
       "        )\n",
       "      )\n",
       "    )\n",
       "  )\n",
       "  (classifier): RobertaClassificationHead(\n",
       "    (dense): Linear(in_features=768, out_features=768, bias=True)\n",
       "    (dropout): Dropout(p=0.1, inplace=False)\n",
       "    (out_proj): Linear(in_features=768, out_features=7, bias=True)\n",
       "  )\n",
       ")"
      ]
     },
     "execution_count": 13,
     "metadata": {},
     "output_type": "execute_result"
    }
   ],
   "source": [
    "# Trainer를 사용하지 않는 학습: (1) 학습을 위한 모델과 토크나이저 준비 - pre-trained model(klue/roberta-base) 및 AutoTokenizer(텍스트 토큰화)\n",
    "import torch\n",
    "from tqdm.auto import tqdm\n",
    "from torch.utils.data import DataLoader\n",
    "from torch.optim import AdamW\n",
    "from transformers import AutoModelForSequenceClassification, AutoTokenizer\n",
    "import numpy as np\n",
    "\n",
    "def tokenize_function(examples): # 제목(title) 컬럼에 대한 토큰화\n",
    "    return tokenizer(examples[\"title\"], padding=\"max_length\", truncation=True)\n",
    "\n",
    "# 모델과 토크나이저 불러오기\n",
    "device = torch.device(\"cuda\" if torch.cuda.is_available() else \"cpu\") # GPU 설정\n",
    "model_id = \"klue/roberta-base\"\n",
    "model = AutoModelForSequenceClassification.from_pretrained(model_id, num_labels=len(train_dataset.features['label'].names))\n",
    "tokenizer = AutoTokenizer.from_pretrained(model_id)\n",
    "model.to(device)"
   ]
  },
  {
   "cell_type": "code",
   "execution_count": null,
   "id": "45f8bec7",
   "metadata": {},
   "outputs": [
    {
     "data": {
      "application/vnd.jupyter.widget-view+json": {
       "model_id": "49dc24a03efe48589297780bad20934d",
       "version_major": 2,
       "version_minor": 0
      },
      "text/plain": [
       "Map:   0%|          | 0/10000 [00:00<?, ? examples/s]"
      ]
     },
     "metadata": {},
     "output_type": "display_data"
    },
    {
     "data": {
      "application/vnd.jupyter.widget-view+json": {
       "model_id": "2579495d6bc7435391cb16ab4835078a",
       "version_major": 2,
       "version_minor": 0
      },
      "text/plain": [
       "Map:   0%|          | 0/1000 [00:00<?, ? examples/s]"
      ]
     },
     "metadata": {},
     "output_type": "display_data"
    },
    {
     "data": {
      "application/vnd.jupyter.widget-view+json": {
       "model_id": "cff3179713ba456db9656411dcdab029",
       "version_major": 2,
       "version_minor": 0
      },
      "text/plain": [
       "Map:   0%|          | 0/1000 [00:00<?, ? examples/s]"
      ]
     },
     "metadata": {},
     "output_type": "display_data"
    }
   ],
   "source": [
    "# Trainer를 사용하지 않는 학습: (2) 학습을 위한 데이터 준비 - 데이터로더 생성\n",
    "def make_dataloader(dataset, batch_size, shuffle=True):\n",
    "    dataset = dataset.map(tokenize_function, batched=True).with_format(\"torch\") # 데이터셋에 토큰화 수행\n",
    "    dataset = dataset.rename_column(\"label\", \"labels\") # 컬럼 이름 변경\n",
    "    dataset = dataset.remove_columns(column_names=['title']) # 불필요한 컬럼 제거\n",
    "    return DataLoader(dataset, batch_size=batch_size, shuffle=shuffle)\n",
    "\n",
    "# 데이터로더 만들기\n",
    "train_dataloader = make_dataloader(train_dataset, batch_size=8, shuffle=True)\n",
    "valid_dataloader = make_dataloader(valid_dataset, batch_size=8, shuffle=False)\n",
    "test_dataloader = make_dataloader(test_dataset, batch_size=8, shuffle=False)"
   ]
  },
  {
   "cell_type": "code",
   "execution_count": null,
   "id": "26a108d3",
   "metadata": {},
   "outputs": [],
   "source": [
    "# Trainer를 사용하지 않는 학습: (3) 학습을 위한 함수 정의\n",
    "def train_epoch(model, data_loader, optimizer):\n",
    "    model.train() # 학습모드 변경\n",
    "    total_loss = 0\n",
    "    for batch in tqdm(data_loader):\n",
    "        optimizer.zero_grad() # 미분 초기화(가중치, 바이어스 파라미터)\n",
    "        input_ids = batch['input_ids'].to(device) # 모델에 입력할 토큰 아이디\n",
    "        attention_mask = batch['attention_mask'].to(device) # 모델에 입력할 어텐션 마스크\n",
    "        labels = batch['labels'].to(device) # 모델에 입력할 레이블\n",
    "        outputs = model(input_ids, attention_mask=attention_mask, labels=labels) # 모델 계산\n",
    "        loss = outputs.loss # 손실값 계산\n",
    "        loss.backward() # 오차역전파, 미분 연산\n",
    "        optimizer.step() # 오차역전파, 미분 연산 후 모델 가중치, 바이어스 파라미터 업데이트\n",
    "        total_loss += loss.item() # 손실값 누적\n",
    "    avg_loss = total_loss / len(data_loader) # 평균 손실값 계산\n",
    "    return avg_loss"
   ]
  },
  {
   "cell_type": "code",
   "execution_count": null,
   "id": "ee0fbf67",
   "metadata": {},
   "outputs": [],
   "source": [
    "# Trainer를 사용하지 않는 학습: (4) 평가를 위한 함수 정의\n",
    "def evaluate(model, data_loader):\n",
    "    model.eval() # 추론모드 변경\n",
    "    total_loss = 0\n",
    "    predictions = []\n",
    "    true_labels = []\n",
    "    with torch.no_grad(): # 미분 연산 하지 않음(오차역전파 하지 않음)\n",
    "        for batch in tqdm(data_loader):\n",
    "            input_ids = batch['input_ids'].to(device)\n",
    "            attention_mask = batch['attention_mask'].to(device)\n",
    "            labels = batch['labels'].to(device)\n",
    "            outputs = model(input_ids, attention_mask=attention_mask, labels=labels) # 모델 추론\n",
    "            logits = outputs.logits # 모델 추론 값\n",
    "            loss = outputs.loss # 손실함수값\n",
    "            total_loss += loss.item() # 손실함수값 누적\n",
    "            # 모델 계산 결과의 logits 속성을 가져와 torch.argmax() 함수를 사용해 가장 큰 값으로 예측한 카테고리 정보를 찾음\n",
    "            preds = torch.argmax(logits, dim=-1)\n",
    "            predictions.extend(preds.cpu().numpy()) # 추론(예측) 값 -> 넘파이 타입으로 변경\n",
    "            true_labels.extend(labels.cpu().numpy()) # 정답 값 -> 넘파이 타입으로 변경\n",
    "    avg_loss = total_loss / len(data_loader) # 평균 손실함수 값 계산\n",
    "    accuracy = np.mean(np.asarray(predictions) == np.asarray(true_labels)) # 예측값 == 정답값 비교해 정확도를 계산\n",
    "    return avg_loss, accuracy"
   ]
  },
  {
   "cell_type": "code",
   "execution_count": null,
   "id": "b169f476",
   "metadata": {},
   "outputs": [
    {
     "name": "stdout",
     "output_type": "stream",
     "text": [
      "Epoch 1/2\n"
     ]
    },
    {
     "data": {
      "application/vnd.jupyter.widget-view+json": {
       "model_id": "1eff80b751c84f4586a2e6601d529ecc",
       "version_major": 2,
       "version_minor": 0
      },
      "text/plain": [
       "  0%|          | 0/1250 [00:00<?, ?it/s]"
      ]
     },
     "metadata": {},
     "output_type": "display_data"
    },
    {
     "name": "stdout",
     "output_type": "stream",
     "text": [
      "Training loss: 0.43953326002806425\n"
     ]
    },
    {
     "data": {
      "application/vnd.jupyter.widget-view+json": {
       "model_id": "6289e283fff84139a250a3c38bf4e114",
       "version_major": 2,
       "version_minor": 0
      },
      "text/plain": [
       "  0%|          | 0/125 [00:00<?, ?it/s]"
      ]
     },
     "metadata": {},
     "output_type": "display_data"
    },
    {
     "name": "stdout",
     "output_type": "stream",
     "text": [
      "Validation loss: 0.7441377874016761\n",
      "Validation accuracy: 0.764\n",
      "Epoch 2/2\n"
     ]
    },
    {
     "data": {
      "application/vnd.jupyter.widget-view+json": {
       "model_id": "c80dd530ca8d44139a18401cece5ab13",
       "version_major": 2,
       "version_minor": 0
      },
      "text/plain": [
       "  0%|          | 0/1250 [00:00<?, ?it/s]"
      ]
     },
     "metadata": {},
     "output_type": "display_data"
    },
    {
     "name": "stdout",
     "output_type": "stream",
     "text": [
      "Training loss: 0.32377947511523963\n"
     ]
    },
    {
     "data": {
      "application/vnd.jupyter.widget-view+json": {
       "model_id": "f5f5d7f55c274bf29d36d172d98fd169",
       "version_major": 2,
       "version_minor": 0
      },
      "text/plain": [
       "  0%|          | 0/125 [00:00<?, ?it/s]"
      ]
     },
     "metadata": {},
     "output_type": "display_data"
    },
    {
     "name": "stdout",
     "output_type": "stream",
     "text": [
      "Validation loss: 0.6956408118903636\n",
      "Validation accuracy: 0.792\n"
     ]
    },
    {
     "data": {
      "application/vnd.jupyter.widget-view+json": {
       "model_id": "028de37f6a4d4dbfadbb4cb98e08272d",
       "version_major": 2,
       "version_minor": 0
      },
      "text/plain": [
       "  0%|          | 0/125 [00:00<?, ?it/s]"
      ]
     },
     "metadata": {},
     "output_type": "display_data"
    },
    {
     "name": "stdout",
     "output_type": "stream",
     "text": [
      "Test accuracy: 0.815\n"
     ]
    }
   ],
   "source": [
    "# Trainer를 사용하지 않는 학습: (5) 학습 수행\n",
    "num_epochs = 1\n",
    "optimizer = AdamW(model.parameters(), lr=5e-5)\n",
    "\n",
    "# 학습 루프\n",
    "for epoch in range(num_epochs):\n",
    "    print(f\"Epoch {epoch+1}/{num_epochs}\")\n",
    "    train_loss = train_epoch(model, train_dataloader, optimizer)\n",
    "    print(f\"Training loss: {train_loss}\")\n",
    "    valid_loss, valid_accuracy = evaluate(model, valid_dataloader)\n",
    "    print(f\"Validation loss: {valid_loss}\")\n",
    "    print(f\"Validation accuracy: {valid_accuracy}\")\n",
    "\n",
    "# Testing\n",
    "_, test_accuracy = evaluate(model, test_dataloader)\n",
    "print(f\"Test accuracy: {test_accuracy}\") # 정확도 0.82"
   ]
  },
  {
   "cell_type": "code",
   "execution_count": 74,
   "id": "05955ca4",
   "metadata": {},
   "outputs": [
    {
     "data": {
      "text/plain": [
       "[{'label': '사회', 'score': 0.4837909936904907},\n",
       " {'label': '사회', 'score': 0.4970826804637909},\n",
       " {'label': '스포츠', 'score': 0.5287860631942749},\n",
       " {'label': '사회', 'score': 0.930154025554657},\n",
       " {'label': '사회', 'score': 0.8547390103340149},\n",
       " {'label': 'IT과학', 'score': 0.8367857336997986},\n",
       " {'label': '세계', 'score': 0.6763783097267151},\n",
       " {'label': 'IT과학', 'score': 0.5875315070152283},\n",
       " {'label': '생활문화', 'score': 0.8966208696365356},\n",
       " {'label': 'IT과학', 'score': 0.27729278802871704},\n",
       " {'label': 'IT과학', 'score': 0.9353365302085876},\n",
       " {'label': 'IT과학', 'score': 0.7597654461860657},\n",
       " {'label': '세계', 'score': 0.76815265417099},\n",
       " {'label': 'IT과학', 'score': 0.9492108225822449},\n",
       " {'label': '정치', 'score': 0.9910655617713928},\n",
       " {'label': '세계', 'score': 0.9625180959701538},\n",
       " {'label': '사회', 'score': 0.9402467608451843},\n",
       " {'label': '사회', 'score': 0.8627825975418091},\n",
       " {'label': '경제', 'score': 0.9638135433197021},\n",
       " {'label': '사회', 'score': 0.8906746506690979},\n",
       " {'label': '생활문화', 'score': 0.9825164079666138},\n",
       " {'label': '생활문화', 'score': 0.4615274667739868},\n",
       " {'label': '사회', 'score': 0.7327747344970703},\n",
       " {'label': '스포츠', 'score': 0.9951232075691223},\n",
       " {'label': '스포츠', 'score': 0.9952203631401062},\n",
       " {'label': '스포츠', 'score': 0.9458205103874207},\n",
       " {'label': '사회', 'score': 0.903898298740387},\n",
       " {'label': '생활문화', 'score': 0.9817589521408081},\n",
       " {'label': '정치', 'score': 0.9548444151878357},\n",
       " {'label': '정치', 'score': 0.9911529421806335},\n",
       " {'label': '정치', 'score': 0.8772645592689514},\n",
       " {'label': '세계', 'score': 0.9854932427406311},\n",
       " {'label': 'IT과학', 'score': 0.7371925115585327},\n",
       " {'label': '생활문화', 'score': 0.8329911231994629},\n",
       " {'label': '정치', 'score': 0.9826685190200806},\n",
       " {'label': '경제', 'score': 0.8933107852935791},\n",
       " {'label': '경제', 'score': 0.9576201438903809},\n",
       " {'label': '경제', 'score': 0.9537133574485779},\n",
       " {'label': '경제', 'score': 0.94422847032547},\n",
       " {'label': '스포츠', 'score': 0.9951608777046204},\n",
       " {'label': '생활문화', 'score': 0.9821850657463074},\n",
       " {'label': '사회', 'score': 0.9024847149848938},\n",
       " {'label': '사회', 'score': 0.9394274353981018},\n",
       " {'label': '사회', 'score': 0.9035429954528809},\n",
       " {'label': '사회', 'score': 0.8552775382995605},\n",
       " {'label': '경제', 'score': 0.9642933011054993},\n",
       " {'label': '사회', 'score': 0.9431920647621155},\n",
       " {'label': '생활문화', 'score': 0.936440646648407},\n",
       " {'label': '정치', 'score': 0.8600135445594788},\n",
       " {'label': '사회', 'score': 0.9425854682922363},\n",
       " {'label': '사회', 'score': 0.3709079623222351},\n",
       " {'label': '생활문화', 'score': 0.9466013312339783},\n",
       " {'label': '생활문화', 'score': 0.9827441573143005},\n",
       " {'label': '경제', 'score': 0.917982816696167},\n",
       " {'label': '사회', 'score': 0.941098153591156},\n",
       " {'label': '사회', 'score': 0.47679975628852844},\n",
       " {'label': '경제', 'score': 0.9617742896080017},\n",
       " {'label': '정치', 'score': 0.9915767908096313},\n",
       " {'label': '생활문화', 'score': 0.9818595051765442},\n",
       " {'label': '사회', 'score': 0.9363348484039307},\n",
       " {'label': '사회', 'score': 0.9220948815345764},\n",
       " {'label': '경제', 'score': 0.9090561270713806},\n",
       " {'label': '생활문화', 'score': 0.9828857183456421},\n",
       " {'label': '사회', 'score': 0.860984206199646},\n",
       " {'label': '사회', 'score': 0.9308972954750061},\n",
       " {'label': '생활문화', 'score': 0.9704535007476807},\n",
       " {'label': '사회', 'score': 0.9360371828079224},\n",
       " {'label': '사회', 'score': 0.7825480699539185},\n",
       " {'label': 'IT과학', 'score': 0.9576800465583801},\n",
       " {'label': '스포츠', 'score': 0.9951890707015991},\n",
       " {'label': '생활문화', 'score': 0.9354376196861267},\n",
       " {'label': '생활문화', 'score': 0.9777923822402954},\n",
       " {'label': '생활문화', 'score': 0.9725413918495178},\n",
       " {'label': '사회', 'score': 0.8922997117042542},\n",
       " {'label': '세계', 'score': 0.9828260540962219},\n",
       " {'label': '생활문화', 'score': 0.9783470630645752},\n",
       " {'label': '사회', 'score': 0.9405872821807861},\n",
       " {'label': '사회', 'score': 0.9020379185676575},\n",
       " {'label': '사회', 'score': 0.9411317110061646},\n",
       " {'label': '세계', 'score': 0.9868872761726379},\n",
       " {'label': '사회', 'score': 0.9107968807220459},\n",
       " {'label': '경제', 'score': 0.860339343547821},\n",
       " {'label': '생활문화', 'score': 0.9828702807426453},\n",
       " {'label': '세계', 'score': 0.986737072467804},\n",
       " {'label': '사회', 'score': 0.9308751821517944},\n",
       " {'label': '사회', 'score': 0.9159119129180908},\n",
       " {'label': '사회', 'score': 0.9256317615509033},\n",
       " {'label': 'IT과학', 'score': 0.7843045592308044},\n",
       " {'label': '사회', 'score': 0.8775179982185364},\n",
       " {'label': '세계', 'score': 0.9547886848449707},\n",
       " {'label': '생활문화', 'score': 0.9360876083374023},\n",
       " {'label': 'IT과학', 'score': 0.9240378737449646},\n",
       " {'label': '정치', 'score': 0.9916472434997559},\n",
       " {'label': '생활문화', 'score': 0.9428861141204834},\n",
       " {'label': '사회', 'score': 0.941537618637085},\n",
       " {'label': '생활문화', 'score': 0.9625586271286011},\n",
       " {'label': '스포츠', 'score': 0.9839306473731995},\n",
       " {'label': '경제', 'score': 0.9625802636146545},\n",
       " {'label': '세계', 'score': 0.983749270439148},\n",
       " {'label': '정치', 'score': 0.9851071238517761}]"
      ]
     },
     "execution_count": 74,
     "metadata": {},
     "output_type": "execute_result"
    }
   ],
   "source": [
    "import torch\n",
    "from torch.nn.functional import softmax\n",
    "from transformers import AutoModelForSequenceClassification, AutoTokenizer\n",
    "\n",
    "class CustomPipeline:\n",
    "    def __init__(self, model_id):\n",
    "        self.model = AutoModelForSequenceClassification.from_pretrained(model_id)\n",
    "        self.tokenizer = AutoTokenizer.from_pretrained(model_id)\n",
    "        self.model.eval()\n",
    "\n",
    "    def __call__(self, texts):\n",
    "        # tokenizer 통한 토큰화\n",
    "        tokenized = self.tokenizer(texts, return_tensors=\"pt\", padding=True, truncation=True)\n",
    "\n",
    "        with torch.no_grad(): # 미분 연산하지 않음\n",
    "            outputs = self.model(**tokenized) # 모델 추론\n",
    "            logits = outputs.logits # 모델 추론 값\n",
    "\n",
    "        # 가장 큰 예측 확률을 갖는 클래스를 추출해서 반환\n",
    "        probabilities = softmax(logits, dim=-1)\n",
    "        scores, labels = torch.max(probabilities, dim=-1)\n",
    "        labels_str = [self.model.config.id2label[label_idx] for label_idx in labels.tolist()]\n",
    "\n",
    "        return [{\"label\": label, \"score\": score.item()} for label, score in zip(labels_str, scores)]\n",
    "\n",
    "custom_pipeline = CustomPipeline(model_id)\n",
    "custom_pipeline(dataset['test']['title'][:100])"
   ]
  }
 ],
 "metadata": {
  "kernelspec": {
   "display_name": "base",
   "language": "python",
   "name": "python3"
  },
  "language_info": {
   "codemirror_mode": {
    "name": "ipython",
    "version": 3
   },
   "file_extension": ".py",
   "mimetype": "text/x-python",
   "name": "python",
   "nbconvert_exporter": "python",
   "pygments_lexer": "ipython3",
   "version": "3.13.5"
  }
 },
 "nbformat": 4,
 "nbformat_minor": 5
}
