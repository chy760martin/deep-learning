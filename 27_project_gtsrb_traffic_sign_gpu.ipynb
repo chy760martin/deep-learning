{
 "cells": [
  {
   "cell_type": "code",
   "execution_count": 1,
   "id": "9bd2428f",
   "metadata": {},
   "outputs": [],
   "source": [
    "# GTSRB (German Traffic Sign Recognition Benchmark) - 표지판(Traffic sign) 이미지 분류\n",
    "\n",
    "# GTSRB (German Traffic Sign Recognition Benchmark) 데이터는 표지판(Traffic sign)을 예측하기 위해서 만든 데이터이며,\n",
    "# 평균적으로 32x32 크기를 가지는 color 이미지로, 43개 교통 표지판과 관련된 약 4만 개의 이미지를 포함\n",
    "\n",
    "# Conv Layer -> Conv Layer -> MaxPooling Layer -> Flatten Layer -> Linear -> Linear\n",
    "# 데이터 다운로드 및 로드 -> 데이터 전처리 -> 모델 아키텍처 구성 -> 모델 학습 및 평가"
   ]
  },
  {
   "cell_type": "code",
   "execution_count": 2,
   "id": "b3719cbe",
   "metadata": {},
   "outputs": [
    {
     "name": "stdout",
     "output_type": "stream",
     "text": [
      "pytorch version :  2.7.1+cu118 , device :  cuda\n"
     ]
    }
   ],
   "source": [
    "# 라이브러리\n",
    "import os\n",
    "import shutil\n",
    "import glob\n",
    "import cv2\n",
    "import zipfile\n",
    "import random\n",
    "import numpy as np\n",
    "from datetime import datetime\n",
    "import matplotlib.pyplot as plt\n",
    "\n",
    "import torch\n",
    "import torch.nn as nn\n",
    "import torch.optim as optim\n",
    "from torchvision import transforms, datasets\n",
    "from torch.utils.data import Dataset, DataLoader, random_split\n",
    "\n",
    "# GPU 설정\n",
    "DEVICE = torch.device(\"cuda\" if torch.cuda.is_available() else \"cpu\")\n",
    "print('pytorch version : ', torch.__version__, ', device : ', DEVICE)"
   ]
  },
  {
   "cell_type": "code",
   "execution_count": 4,
   "id": "8f92a310",
   "metadata": {},
   "outputs": [],
   "source": [
    "# ===============================\n",
    "# 데이터 경로 설정\n",
    "# ===============================\n",
    "ROOT_DIR = '.\\\\data'\n",
    "DATA_ROOT_DIR = os.path.join(ROOT_DIR, 'GTSRB\\\\Final_Training\\\\Images')\n",
    "TRAIN_DATA_ROOT_DIR = os.path.join(DATA_ROOT_DIR, 'Training')\n",
    "TEST_DATA_ROOT_DIR = os.path.join(DATA_ROOT_DIR, 'Testing')\n",
    "# os.mkdir(os.path.join(DATA_ROOT_DIR, 'Training'))\n",
    "# os.mkdir(os.path.join(DATA_ROOT_DIR, 'Testing'))"
   ]
  },
  {
   "cell_type": "code",
   "execution_count": 5,
   "id": "2248c0cb",
   "metadata": {},
   "outputs": [
    {
     "name": "stdout",
     "output_type": "stream",
     "text": [
      ".\\data\\GTSRB is removed\n"
     ]
    }
   ],
   "source": [
    "# 데이터 폴더 존재시 삭제\n",
    "if os.path.exists('.\\\\data\\\\GTSRB'):\n",
    "    shutil.rmtree('.\\\\data\\\\GTSRB')\n",
    "    print('.\\\\data\\\\GTSRB is removed')"
   ]
  },
  {
   "cell_type": "code",
   "execution_count": 7,
   "id": "7f66be38",
   "metadata": {},
   "outputs": [],
   "source": [
    "# 압축 해제\n",
    "with zipfile.ZipFile(os.path.join(ROOT_DIR, 'GTSRB_Final_Training_Images.zip'), 'r') as target_file:\n",
    "    target_file.extractall(ROOT_DIR)"
   ]
  },
  {
   "cell_type": "code",
   "execution_count": 36,
   "id": "4cda99d0",
   "metadata": {},
   "outputs": [
    {
     "name": "stdout",
     "output_type": "stream",
     "text": [
      "['00000', '00001', '00002', '00003', '00004', '00005', '00006', '00007', '00008', '00009', '00010', '00011', '00012', '00013', '00014', '00015', '00016', '00017', '00018', '00019', '00020', '00021', '00022', '00023', '00024', '00025', '00026', '00027', '00028', '00029', '00030', '00031', '00032', '00033', '00034', '00035', '00036', '00037', '00038', '00039', '00040', '00041', '00042']\n",
      "211 is moved into 00000 (Testing => Training)\n",
      "2221 is moved into 00001 (Testing => Training)\n",
      "2251 is moved into 00002 (Testing => Training)\n",
      "1411 is moved into 00003 (Testing => Training)\n",
      "1981 is moved into 00004 (Testing => Training)\n",
      "1861 is moved into 00005 (Testing => Training)\n",
      "421 is moved into 00006 (Testing => Training)\n",
      "1441 is moved into 00007 (Testing => Training)\n",
      "1411 is moved into 00008 (Testing => Training)\n",
      "1471 is moved into 00009 (Testing => Training)\n",
      "2011 is moved into 00010 (Testing => Training)\n",
      "1321 is moved into 00011 (Testing => Training)\n",
      "2101 is moved into 00012 (Testing => Training)\n",
      "2161 is moved into 00013 (Testing => Training)\n",
      "781 is moved into 00014 (Testing => Training)\n",
      "631 is moved into 00015 (Testing => Training)\n",
      "421 is moved into 00016 (Testing => Training)\n",
      "1111 is moved into 00017 (Testing => Training)\n",
      "1201 is moved into 00018 (Testing => Training)\n",
      "211 is moved into 00019 (Testing => Training)\n",
      "361 is moved into 00020 (Testing => Training)\n",
      "331 is moved into 00021 (Testing => Training)\n",
      "391 is moved into 00022 (Testing => Training)\n",
      "511 is moved into 00023 (Testing => Training)\n",
      "271 is moved into 00024 (Testing => Training)\n",
      "1501 is moved into 00025 (Testing => Training)\n",
      "601 is moved into 00026 (Testing => Training)\n",
      "241 is moved into 00027 (Testing => Training)\n",
      "541 is moved into 00028 (Testing => Training)\n",
      "271 is moved into 00029 (Testing => Training)\n",
      "451 is moved into 00030 (Testing => Training)\n",
      "781 is moved into 00031 (Testing => Training)\n",
      "241 is moved into 00032 (Testing => Training)\n",
      "690 is moved into 00033 (Testing => Training)\n",
      "421 is moved into 00034 (Testing => Training)\n",
      "1201 is moved into 00035 (Testing => Training)\n",
      "391 is moved into 00036 (Testing => Training)\n",
      "211 is moved into 00037 (Testing => Training)\n",
      "2071 is moved into 00038 (Testing => Training)\n",
      "301 is moved into 00039 (Testing => Training)\n",
      "361 is moved into 00040 (Testing => Training)\n",
      "241 is moved into 00041 (Testing => Training)\n",
      "241 is moved into 00042 (Testing => Training)\n"
     ]
    }
   ],
   "source": [
    "# 데이터 재구축 - Testing 데이터 -> Training 데이터\n",
    "# - Testing 데이터와 Training 데이터가 이질적이기 때문에 학습 정확도와 테스트 정확도의 편차를 줄여서 모델의 신뢰성을 높이기 위함\n",
    "# 1) 학습 전에 Testing 데이터와 Training 데이터를 혼합하고\n",
    "# 2) Training : Testing = 8 : 2 비율로 데이터를 재구축\n",
    "\n",
    "test_label_name_list = os.listdir(TEST_DATA_ROOT_DIR)\n",
    "print(test_label_name_list)\n",
    "\n",
    "for label_name in test_label_name_list: # Testing 디렉토리 각각의 label(정답)\n",
    "    test_path = os.path.join(TEST_DATA_ROOT_DIR, label_name)\n",
    "    # print(test_path)\n",
    "    test_file_list = os.listdir(test_path) # label 디렉토리에 있는 이미지 파일 목록을 뽑아냄\n",
    "    # print(test_file_list)\n",
    "    train_path = os.path.join(TRAIN_DATA_ROOT_DIR, label_name)\n",
    "    # print(train_path)\n",
    "    moved_num = 0\n",
    "\n",
    "    for test_image_file in test_file_list: # 모든 이미지 파일\n",
    "        # Testing 디렉토리 이미지 파일을 동일한 label의 Training 디렉토리로 이동\n",
    "        shutil.move(os.path.join(test_path, test_image_file),\n",
    "                    os.path.join(train_path, test_image_file))\n",
    "        \n",
    "        moved_num = moved_num + 1\n",
    "    \n",
    "    print(str(moved_num) + ' is moved into ' + label_name + ' (Testing => Training)')"
   ]
  },
  {
   "cell_type": "code",
   "execution_count": 38,
   "id": "96009306",
   "metadata": {},
   "outputs": [
    {
     "name": "stdout",
     "output_type": "stream",
     "text": [
      "['00000', '00001', '00002', '00003', '00004', '00005', '00006', '00007', '00008', '00009', '00010', '00011', '00012', '00013', '00014', '00015', '00016', '00017', '00018', '00019', '00020', '00021', '00022', '00023', '00024', '00025', '00026', '00027', '00028', '00029', '00030', '00031', '00032', '00033', '00034', '00035', '00036', '00037', '00038', '00039', '00040', '00041', '00042']\n"
     ]
    }
   ],
   "source": [
    "# 데이터 재구축 - Training 데이터 -> Testing 데이터\n",
    "\n",
    "MOVE_RATIO = 0.2 # train : test = 80 : 20, 즉 train 데이터 20% 데이터를 test 데이터로 사용\n",
    "\n",
    "label_name_list = os.listdir(TRAIN_DATA_ROOT_DIR)\n",
    "print(label_name_list)\n",
    "\n",
    "for label_name in label_name_list: # Training 디렉토리 각각의 label(정답)\n",
    "    # 파일 move 하기 위한 src_dir_path, dst_dir_path 설정\n",
    "    src_dir_path = os.path.join(TRAIN_DATA_ROOT_DIR, label_name)\n",
    "    dst_dir_path = os.path.join(TEST_DATA_ROOT_DIR, label_name)\n",
    "\n",
    "    train_data_file_list = os.listdir(src_dir_path) # label 디렉토리에 있는 이미지 파일 목록을 뽑아냄\n",
    "    random.shuffle(train_data_file_list)\n",
    "    # print(train_data_file_list)\n",
    "\n",
    "    # 데이터 다양성을 위해 train data를 random하게 shuffle 한 후에, test data list 생성\n",
    "    split_num = int(MOVE_RATIO * len(train_data_file_list))\n",
    "    test_data_file_list = train_data_file_list[0:split_num]\n",
    "\n",
    "    # shutil.move 이용해서 Training 디렉토리에서 20% 비율로 test data를 생성해서 Testing 디렉토리로 이동\n",
    "    for test_data_file in test_data_file_list:\n",
    "        try:\n",
    "            shutil.move(os.path.join(src_dir_path, test_data_file),\n",
    "                        os.path.join(dst_dir_path, test_data_file))\n",
    "        except Exception as err:\n",
    "            print(str(err))"
   ]
  },
  {
   "cell_type": "code",
   "execution_count": 5,
   "id": "4690e1f2",
   "metadata": {},
   "outputs": [
    {
     "name": "stdout",
     "output_type": "stream",
     "text": [
      "클래스 :  ['00000', '00001', '00002', '00003', '00004', '00005', '00006', '00007', '00008', '00009', '00010', '00011', '00012', '00013', '00014', '00015', '00016', '00017', '00018', '00019', '00020', '00021', '00022', '00023', '00024', '00025', '00026', '00027', '00028', '00029', '00030', '00031', '00032', '00033', '00034', '00035', '00036', '00037', '00038', '00039', '00040', '00041', '00042']\n"
     ]
    }
   ],
   "source": [
    "# ===============================\n",
    "# Dataset 준비\n",
    "# ===============================\n",
    "IMG_WIDTH, IMG_HEIGHT = 32, 32\n",
    "BATCH_SIZE = 32\n",
    "\n",
    "# transforms 설정\n",
    "train_transforms = transforms.Compose([\n",
    "    transforms.Resize((IMG_WIDTH, IMG_HEIGHT)),\n",
    "    transforms.ToTensor(),\n",
    "    transforms.Normalize([0.485, 0.456, 0.406],  # ImageNet 기준 정규화\n",
    "                         [0.229, 0.224, 0.225])\n",
    "])\n",
    "\n",
    "test_transforms = transforms.Compose([\n",
    "    transforms.Resize((IMG_WIDTH, IMG_HEIGHT)),\n",
    "    transforms.ToTensor(),\n",
    "    transforms.Normalize([0.485, 0.456, 0.406],\n",
    "                         [0.229, 0.224, 0.225])\n",
    "])\n",
    "\n",
    "# datasets.ImageFolder\n",
    "train_dataset = datasets.ImageFolder(TRAIN_DATA_ROOT_DIR, transform=train_transforms)\n",
    "test_dataset = datasets.ImageFolder(TEST_DATA_ROOT_DIR, transform=test_transforms)\n",
    "\n",
    "# DataLoader\n",
    "train_loader = DataLoader(train_dataset, batch_size=BATCH_SIZE, shuffle=True)\n",
    "test_loader = DataLoader(test_dataset, batch_size=BATCH_SIZE, shuffle=False)\n",
    "\n",
    "# 정답 label\n",
    "class_names = train_dataset.classes\n",
    "print('클래스 : ', class_names)"
   ]
  },
  {
   "cell_type": "code",
   "execution_count": 6,
   "id": "33751ef1",
   "metadata": {},
   "outputs": [
    {
     "name": "stderr",
     "output_type": "stream",
     "text": [
      "Clipping input data to the valid range for imshow with RGB data ([0..1] for floats or [0..255] for integers). Got range [-1.9124069..0.11276696].\n",
      "Clipping input data to the valid range for imshow with RGB data ([0..1] for floats or [0..255] for integers). Got range [-1.8256302..2.64].\n",
      "Clipping input data to the valid range for imshow with RGB data ([0..1] for floats or [0..255] for integers). Got range [0.57068247..2.64].\n",
      "Clipping input data to the valid range for imshow with RGB data ([0..1] for floats or [0..255] for integers). Got range [0.57068247..2.64].\n",
      "Clipping input data to the valid range for imshow with RGB data ([0..1] for floats or [0..255] for integers). Got range [-1.9124069..0.8447932].\n",
      "Clipping input data to the valid range for imshow with RGB data ([0..1] for floats or [0..255] for integers). Got range [-1.6041614..2.64].\n",
      "Clipping input data to the valid range for imshow with RGB data ([0..1] for floats or [0..255] for integers). Got range [-1.6041614..2.64].\n",
      "Clipping input data to the valid range for imshow with RGB data ([0..1] for floats or [0..255] for integers). Got range [-1.8781574..-0.5844008].\n",
      "Clipping input data to the valid range for imshow with RGB data ([0..1] for floats or [0..255] for integers). Got range [-1.6505601..1.9033613].\n",
      "Clipping input data to the valid range for imshow with RGB data ([0..1] for floats or [0..255] for integers). Got range [-1.8610327..2.64].\n",
      "Clipping input data to the valid range for imshow with RGB data ([0..1] for floats or [0..255] for integers). Got range [-1.9637812..0.39163405].\n",
      "Clipping input data to the valid range for imshow with RGB data ([0..1] for floats or [0..255] for integers). Got range [-1.9295317..2.1345534].\n",
      "Clipping input data to the valid range for imshow with RGB data ([0..1] for floats or [0..255] for integers). Got range [-1.9466565..0.39163405].\n",
      "Clipping input data to the valid range for imshow with RGB data ([0..1] for floats or [0..255] for integers). Got range [-1.5356624..2.64].\n",
      "Clipping input data to the valid range for imshow with RGB data ([0..1] for floats or [0..255] for integers). Got range [-1.6505601..1.9033613].\n",
      "Clipping input data to the valid range for imshow with RGB data ([0..1] for floats or [0..255] for integers). Got range [-1.5527872..0.44392177].\n"
     ]
    },
    {
     "name": "stdout",
     "output_type": "stream",
     "text": [
      "torch.Size([32, 3, 32, 32]) torch.Size([32])\n",
      "{0: '00000', 1: '00001', 2: '00002', 3: '00003', 4: '00004', 5: '00005', 6: '00006', 7: '00007', 8: '00008', 9: '00009', 10: '00010', 11: '00011', 12: '00012', 13: '00013', 14: '00014', 15: '00015', 16: '00016', 17: '00017', 18: '00018', 19: '00019', 20: '00020', 21: '00021', 22: '00022', 23: '00023', 24: '00024', 25: '00025', 26: '00026', 27: '00027', 28: '00028', 29: '00029', 30: '00030', 31: '00031', 32: '00032', 33: '00033', 34: '00034', 35: '00035', 36: '00036', 37: '00037', 38: '00038', 39: '00039', 40: '00040', 41: '00041', 42: '00042'}\n"
     ]
    },
    {
     "data": {
      "image/png": "[encoded data removed]",
      "text/plain": [
       "<Figure size 800x700 with 16 Axes>"
      ]
     },
     "metadata": {},
     "output_type": "display_data"
    }
   ],
   "source": [
    "# 1개 배치 추출\n",
    "images, labels = next(iter(train_loader))\n",
    "print(images.shape, labels.shape)\n",
    "\n",
    "# labels map 생성\n",
    "labels_map = { v : k for k, v in train_dataset.class_to_idx.items() }\n",
    "print(labels_map)\n",
    "\n",
    "# 이미지 시각화\n",
    "plt.figure(figsize=(8, 7))\n",
    "cols, rows = 4, 4\n",
    "\n",
    "for i in range(1, cols * rows + 1):\n",
    "    sample_idx = torch.randint(len(images), size=(1, )).item()\n",
    "    img, label = images[sample_idx], labels[sample_idx].item()\n",
    "    plt.subplot(rows, cols, i)\n",
    "    plt.imshow(torch.permute(img, (1, 2, 0)))\n",
    "    plt.title(labels_map[label])\n",
    "    plt.axis('off')\n",
    "plt.tight_layout()\n",
    "plt.show()"
   ]
  },
  {
   "cell_type": "code",
   "execution_count": 11,
   "id": "6f8e52ec",
   "metadata": {},
   "outputs": [],
   "source": [
    "# ======================\n",
    "# CNN 모델 정의\n",
    "# ======================\n",
    "class CNNModel(nn.Module):\n",
    "    def __init__(self, num_classes):\n",
    "        super(CNNModel, self).__init__()\n",
    "        self.features = nn.Sequential(\n",
    "            nn.Conv2d(3, 32, kernel_size=3, padding=0),\n",
    "            nn.ReLU(),\n",
    "            nn.Conv2d(32, 64, kernel_size=3, padding=0),\n",
    "            nn.ReLU(),\n",
    "            nn.MaxPool2d(2),\n",
    "            nn.Dropout(0.25)\n",
    "        )\n",
    "        self.classifier = nn.Sequential(\n",
    "            nn.Flatten(),\n",
    "            nn.Linear(64 * 14 * 14, 256),  # 32x32 → conv(3x3)x2 → 28x28 → pool(2x2) → 14x14\n",
    "            nn.ReLU(),\n",
    "            nn.Dropout(0.5),\n",
    "            nn.Linear(256, num_classes)\n",
    "        )\n",
    "\n",
    "    def forward(self, x):\n",
    "        x = self.features(x)\n",
    "        x = self.classifier(x)\n",
    "        return x"
   ]
  },
  {
   "cell_type": "code",
   "execution_count": 12,
   "id": "ce140ec3",
   "metadata": {},
   "outputs": [
    {
     "name": "stdout",
     "output_type": "stream",
     "text": [
      "CNNModel(\n",
      "  (features): Sequential(\n",
      "    (0): Conv2d(3, 32, kernel_size=(3, 3), stride=(1, 1))\n",
      "    (1): ReLU()\n",
      "    (2): Conv2d(32, 64, kernel_size=(3, 3), stride=(1, 1))\n",
      "    (3): ReLU()\n",
      "    (4): MaxPool2d(kernel_size=2, stride=2, padding=0, dilation=1, ceil_mode=False)\n",
      "    (5): Dropout(p=0.25, inplace=False)\n",
      "  )\n",
      "  (classifier): Sequential(\n",
      "    (0): Flatten(start_dim=1, end_dim=-1)\n",
      "    (1): Linear(in_features=12544, out_features=256, bias=True)\n",
      "    (2): ReLU()\n",
      "    (3): Dropout(p=0.5, inplace=False)\n",
      "    (4): Linear(in_features=256, out_features=43, bias=True)\n",
      "  )\n",
      ")\n"
     ]
    }
   ],
   "source": [
    "# ======================\n",
    "# 모델객체 & 손실함수 & 옵티마이저\n",
    "# ======================\n",
    "n_classes = len(class_names)\n",
    "model = CNNModel(n_classes).to(DEVICE)\n",
    "print(model)\n",
    "\n",
    "loss_function = nn.CrossEntropyLoss()\n",
    "optimizer = optim.Adam(model.parameters(), lr=0.001)"
   ]
  },
  {
   "cell_type": "code",
   "execution_count": 13,
   "id": "be2c15ad",
   "metadata": {},
   "outputs": [],
   "source": [
    "# ===============================\n",
    "# 학습 함수\n",
    "# ===============================\n",
    "def train_model(model, loss_function, optimizer, train_loader, val_loader, num_epochs=50, patience=5):\n",
    "    best_loss = np.inf\n",
    "    counter = 0\n",
    "    train_acc_hist, val_acc_hist = [], []\n",
    "    train_loss_hist, val_loss_hist = [], []\n",
    "\n",
    "    for epoch in range(num_epochs):\n",
    "        # --- Train ---\n",
    "        model.train()\n",
    "        running_loss, running_corrects = 0.0, 0\n",
    "\n",
    "        for inputs, labels in train_loader:\n",
    "            inputs, labels = inputs.to(DEVICE), labels.to(DEVICE)\n",
    "\n",
    "            optimizer.zero_grad() # 미분 초기화\n",
    "            outputs = model(inputs) # 모델 예측\n",
    "            loss = loss_function(outputs, labels) # 손실함수 계산\n",
    "\n",
    "            _, preds = torch.max(outputs, 1) # 예측값 분리\n",
    "            loss.backward() # 미분 연산\n",
    "            optimizer.step() # 미분 연산 후 파라미터(가중치, 바이어스) 업데이트\n",
    "\n",
    "            running_loss += loss.item() * inputs.size(0)\n",
    "            running_corrects += torch.sum(preds == labels.data)\n",
    "\n",
    "        epoch_loss = running_loss / len(train_loader.dataset) # 평균 손실함수값\n",
    "        epoch_acc = running_corrects.double() / len(train_loader.dataset) # 평균 정확도값\n",
    "        train_loss_hist.append(epoch_loss)\n",
    "        train_acc_hist.append(epoch_acc.item())\n",
    "\n",
    "        # --- Validation ---\n",
    "        model.eval()\n",
    "        val_running_loss, val_running_corrects = 0.0, 0\n",
    "\n",
    "        with torch.no_grad(): # 오차역전파 사용 안함, 미분 연산 하지 않음\n",
    "            for inputs, labels in val_loader:\n",
    "                inputs, labels = inputs.to(DEVICE), labels.to(DEVICE)\n",
    "                outputs = model(inputs) # 모델 예측\n",
    "                loss = loss_function(outputs, labels) # 손실함수값 계산\n",
    "\n",
    "                _, preds = torch.max(outputs, 1) # 예측값 분리\n",
    "                val_running_loss += loss.item() * inputs.size(0)\n",
    "                val_running_corrects += torch.sum(preds == labels.data)\n",
    "\n",
    "        val_loss = val_running_loss / len(val_loader.dataset) # validation 평균 손실함수값\n",
    "        val_acc = val_running_corrects.double() / len(val_loader.dataset) # validation 평균 정확도값\n",
    "        val_loss_hist.append(val_loss)\n",
    "        val_acc_hist.append(val_acc.item())\n",
    "\n",
    "        print(f\"Epoch {epoch+1}/{num_epochs} - \"\n",
    "              f\"Train loss: {epoch_loss:.4f}, acc: {epoch_acc:.4f} \"\n",
    "              f\"Val loss: {val_loss:.4f}, acc: {val_acc:.4f}\")\n",
    "\n",
    "        # Early stopping\n",
    "        if val_loss < best_loss:\n",
    "            best_loss = val_loss\n",
    "            best_model_wts = model.state_dict()\n",
    "            counter = 0\n",
    "        else:\n",
    "            counter += 1\n",
    "            if counter >= patience:\n",
    "                print(\"Early stopping triggered\")\n",
    "                model.load_state_dict(best_model_wts)\n",
    "                break\n",
    "\n",
    "    return model, (train_acc_hist, val_acc_hist, train_loss_hist, val_loss_hist)"
   ]
  },
  {
   "cell_type": "code",
   "execution_count": 14,
   "id": "9613c120",
   "metadata": {},
   "outputs": [
    {
     "name": "stdout",
     "output_type": "stream",
     "text": [
      "Epoch 1/30 - Train loss: 0.8073, acc: 0.7721 Val loss: 0.1034, acc: 0.9756\n",
      "Epoch 2/30 - Train loss: 0.1881, acc: 0.9443 Val loss: 0.0547, acc: 0.9879\n",
      "Epoch 3/30 - Train loss: 0.1218, acc: 0.9626 Val loss: 0.0462, acc: 0.9897\n",
      "Epoch 4/30 - Train loss: 0.0873, acc: 0.9742 Val loss: 0.0331, acc: 0.9909\n",
      "Epoch 5/30 - Train loss: 0.0766, acc: 0.9776 Val loss: 0.0348, acc: 0.9909\n",
      "Epoch 6/30 - Train loss: 0.0733, acc: 0.9777 Val loss: 0.0291, acc: 0.9925\n",
      "Epoch 7/30 - Train loss: 0.0521, acc: 0.9835 Val loss: 0.0342, acc: 0.9921\n",
      "Epoch 8/30 - Train loss: 0.0526, acc: 0.9839 Val loss: 0.0332, acc: 0.9943\n",
      "Epoch 9/30 - Train loss: 0.0536, acc: 0.9851 Val loss: 0.0262, acc: 0.9946\n",
      "Epoch 10/30 - Train loss: 0.0522, acc: 0.9856 Val loss: 0.0348, acc: 0.9941\n",
      "Epoch 11/30 - Train loss: 0.0429, acc: 0.9871 Val loss: 0.0368, acc: 0.9917\n",
      "Epoch 12/30 - Train loss: 0.0397, acc: 0.9881 Val loss: 0.0401, acc: 0.9914\n",
      "Epoch 13/30 - Train loss: 0.0389, acc: 0.9882 Val loss: 0.0260, acc: 0.9949\n",
      "Epoch 14/30 - Train loss: 0.0422, acc: 0.9877 Val loss: 0.0237, acc: 0.9953\n",
      "Epoch 15/30 - Train loss: 0.0467, acc: 0.9875 Val loss: 0.0334, acc: 0.9939\n",
      "Epoch 16/30 - Train loss: 0.0298, acc: 0.9909 Val loss: 0.0380, acc: 0.9932\n",
      "Epoch 17/30 - Train loss: 0.0348, acc: 0.9907 Val loss: 0.0272, acc: 0.9953\n",
      "Epoch 18/30 - Train loss: 0.0421, acc: 0.9889 Val loss: 0.0262, acc: 0.9963\n",
      "Epoch 19/30 - Train loss: 0.0355, acc: 0.9898 Val loss: 0.0291, acc: 0.9953\n",
      "Early stopping triggered\n"
     ]
    }
   ],
   "source": [
    "# ===============================\n",
    "# 학습 실행\n",
    "# ===============================\n",
    "model, history = train_model(model, loss_function, optimizer, train_loader, test_loader, num_epochs=30)"
   ]
  },
  {
   "cell_type": "code",
   "execution_count": 15,
   "id": "6c3de51b",
   "metadata": {},
   "outputs": [
    {
     "data": {
      "image/png": "[encoded data removed]",
      "text/plain": [
       "<Figure size 640x480 with 1 Axes>"
      ]
     },
     "metadata": {},
     "output_type": "display_data"
    },
    {
     "data": {
      "image/png": "[encoded data removed]",
      "text/plain": [
       "<Figure size 640x480 with 1 Axes>"
      ]
     },
     "metadata": {},
     "output_type": "display_data"
    }
   ],
   "source": [
    "# ======================\n",
    "# 정확도 및 손실 그래프\n",
    "# ======================\n",
    "# ===============================\n",
    "# 성능 시각화\n",
    "# ===============================\n",
    "train_acc_hist, val_acc_hist, train_loss_hist, val_loss_hist = history\n",
    "\n",
    "plt.plot(train_acc_hist, label='train')\n",
    "plt.plot(val_acc_hist, label='validation')\n",
    "plt.title('Accuracy Trend')\n",
    "plt.xlabel('epoch')\n",
    "plt.ylabel('accuracy')\n",
    "plt.legend()\n",
    "plt.grid()\n",
    "plt.show()\n",
    "\n",
    "plt.plot(train_loss_hist, label='train')\n",
    "plt.plot(val_loss_hist, label='validation')\n",
    "plt.title('Loss Trend')\n",
    "plt.xlabel('epoch')\n",
    "plt.ylabel('loss')\n",
    "plt.legend()\n",
    "plt.grid()\n",
    "plt.show()"
   ]
  },
  {
   "cell_type": "code",
   "execution_count": 16,
   "id": "1ee9051e",
   "metadata": {},
   "outputs": [],
   "source": [
    "# Save the model checkpoint\n",
    "torch.save(model.state_dict(), '.\\\\models\\\\model_cnn_gtsrb_traffic.ckpt')"
   ]
  },
  {
   "cell_type": "code",
   "execution_count": 17,
   "id": "6b1814c1",
   "metadata": {},
   "outputs": [
    {
     "name": "stdout",
     "output_type": "stream",
     "text": [
      "Test Accuracy: 99.53%\n"
     ]
    }
   ],
   "source": [
    "# ===============================\n",
    "# 테스트 성능 평가\n",
    "# ===============================\n",
    "model.eval()\n",
    "correct, total = 0, 0\n",
    "with torch.no_grad():\n",
    "    for inputs, labels in test_loader:\n",
    "        inputs, labels = inputs.to(DEVICE), labels.to(DEVICE)\n",
    "        outputs = model(inputs)\n",
    "        _, preds = torch.max(outputs, 1)\n",
    "        total += labels.size(0)\n",
    "        correct += (preds == labels).sum().item()\n",
    "\n",
    "print(f\"Test Accuracy: {100 * correct / total:.2f}%\")"
   ]
  }
 ],
 "metadata": {
  "kernelspec": {
   "display_name": "base",
   "language": "python",
   "name": "python3"
  },
  "language_info": {
   "codemirror_mode": {
    "name": "ipython",
    "version": 3
   },
   "file_extension": ".py",
   "mimetype": "text/x-python",
   "name": "python",
   "nbconvert_exporter": "python",
   "pygments_lexer": "ipython3",
   "version": "3.13.5"
  }
 },
 "nbformat": 4,
 "nbformat_minor": 5
}
