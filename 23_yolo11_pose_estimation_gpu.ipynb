{
 "cells": [
  {
   "cell_type": "code",
   "execution_count": null,
   "id": "a8cff20f",
   "metadata": {},
   "outputs": [],
   "source": [
    "# YOLO11 Pose Estimation\n",
    "# 포즈 추정(Pose Estimation)은 사람의 몸을 구성하는 관절이나 신체 부위의 포인트를 감지하는 기술로서, 사람의 행동을 더 잘 이해하고 행동 예측 가능함\n",
    "# YOLO11 포즈 추정 모델은 사람의 몸을 구성하는 17개의 키포인트(keypoint)를 탐지 할 수 있으며, 각각의 키포인트 0~16 인덱스 값으로 표시됨(각 인덱스는 몸을 구성하는 신체 관절에 매핑)"
   ]
  },
  {
   "cell_type": "code",
   "execution_count": null,
   "id": "2ea32790",
   "metadata": {},
   "outputs": [],
   "source": [
    "# YOLO11 프로젝트 개발 프로세스\n",
    "\n",
    "# Data Preparation \n",
    "# - MS COCO Dataset으로 사전학습된 YOLOv8 모델 prediction 기능만을 이용하는 경우라면 예측에 사용할 Image를 준비(주어진 Image(학습이미지) 정답에 해당하는 Annotation(정답 label) 필요치 않음)\n",
    "# - Custom Dataset로 YOLOv8 모델을 재학습(Fine Tuning) 하는 경우에는 Image / Annotation 으로 이루어진 Dataset 을 준비\n",
    "#   데이터는 Roboflow(public.roboflow.com) 에서 제공하는 Training Dataset 을 이용하거나 LabelImg와 같은 labeling tool을 이용하여 개발자가 직접\n",
    "#   labeling 시킨 Image(학습이미지) / Annotation(정답 label) 으로 이루어진 Training Dataset을 구축해야 함\n",
    "\n",
    "# Loading Data\n",
    "# - Dataset 다운로드 및 로드\n",
    "\n",
    "# Install YOLO11\n",
    "# - pip install ultralytics 라이브러리 설치 및 dependency 체크\n",
    "\n",
    "# Training Model 구축\n",
    "# - pose\n",
    "# - detection\n",
    "# - segmentation\n",
    "\n",
    "# Prediction"
   ]
  },
  {
   "cell_type": "code",
   "execution_count": 2,
   "id": "8d51a1c0",
   "metadata": {},
   "outputs": [],
   "source": [
    "# YOLO11 사용하여 이미지 Pose Estimation\n",
    "import os, zipfile, shutil\n",
    "import numpy as np"
   ]
  },
  {
   "cell_type": "code",
   "execution_count": 3,
   "id": "0660c776",
   "metadata": {},
   "outputs": [
    {
     "name": "stdout",
     "output_type": "stream",
     "text": [
      ".\\data\\test_pose_image_dir is removed\n"
     ]
    }
   ],
   "source": [
    "# 데이터 폴더 존재시 삭제\n",
    "if os.path.exists('.\\\\data\\\\test_pose_image_dir'):\n",
    "    shutil.rmtree('.\\\\data\\\\test_pose_image_dir')\n",
    "    print('.\\\\data\\\\test_pose_image_dir is removed')"
   ]
  },
  {
   "cell_type": "code",
   "execution_count": 4,
   "id": "fd931c2a",
   "metadata": {},
   "outputs": [
    {
     "name": "stdout",
     "output_type": "stream",
     "text": [
      "test images =  ['test_01.jpg', 'test_02.jpg', 'test_03.jpg', 'test_04.jpg', 'test_05.jpg', 'test_06.jpg']\n"
     ]
    }
   ],
   "source": [
    "# Data Preparation and Load Data\n",
    "with zipfile.ZipFile('.\\\\data\\\\test_pose_image_dir.zip') as target_file:\n",
    "    target_file.extractall('.\\\\data\\\\test_pose_image_dir')\n",
    "\n",
    "print('test images = ', os.listdir('.\\\\data\\\\test_pose_image_dir'))"
   ]
  },
  {
   "cell_type": "code",
   "execution_count": 5,
   "id": "ece925df",
   "metadata": {},
   "outputs": [
    {
     "name": "stdout",
     "output_type": "stream",
     "text": [
      "Requirement already satisfied: ultralytics in c:\\users\\ai\\miniconda3\\lib\\site-packages (8.3.173)\n",
      "Requirement already satisfied: numpy>=1.23.0 in c:\\users\\ai\\miniconda3\\lib\\site-packages (from ultralytics) (2.1.2)\n",
      "Requirement already satisfied: matplotlib>=3.3.0 in c:\\users\\ai\\miniconda3\\lib\\site-packages (from ultralytics) (3.10.3)\n",
      "Requirement already satisfied: opencv-python>=4.6.0 in c:\\users\\ai\\miniconda3\\lib\\site-packages (from ultralytics) (4.11.0.86)\n",
      "Requirement already satisfied: pillow>=7.1.2 in c:\\users\\ai\\miniconda3\\lib\\site-packages (from ultralytics) (11.0.0)\n",
      "Requirement already satisfied: pyyaml>=5.3.1 in c:\\users\\ai\\miniconda3\\lib\\site-packages (from ultralytics) (6.0.2)\n",
      "Requirement already satisfied: requests>=2.23.0 in c:\\users\\ai\\miniconda3\\lib\\site-packages (from ultralytics) (2.32.3)\n",
      "Requirement already satisfied: scipy>=1.4.1 in c:\\users\\ai\\miniconda3\\lib\\site-packages (from ultralytics) (1.16.0)\n",
      "Requirement already satisfied: torch>=1.8.0 in c:\\users\\ai\\miniconda3\\lib\\site-packages (from ultralytics) (2.7.1+cu118)\n",
      "Requirement already satisfied: torchvision>=0.9.0 in c:\\users\\ai\\miniconda3\\lib\\site-packages (from ultralytics) (0.22.1+cu118)\n",
      "Requirement already satisfied: tqdm>=4.64.0 in c:\\users\\ai\\miniconda3\\lib\\site-packages (from ultralytics) (4.67.1)\n",
      "Requirement already satisfied: psutil in c:\\users\\ai\\miniconda3\\lib\\site-packages (from ultralytics) (5.9.0)\n",
      "Requirement already satisfied: py-cpuinfo in c:\\users\\ai\\miniconda3\\lib\\site-packages (from ultralytics) (9.0.0)\n",
      "Requirement already satisfied: pandas>=1.1.4 in c:\\users\\ai\\miniconda3\\lib\\site-packages (from ultralytics) (2.3.0)\n",
      "Requirement already satisfied: ultralytics-thop>=2.0.0 in c:\\users\\ai\\miniconda3\\lib\\site-packages (from ultralytics) (2.0.14)\n",
      "Requirement already satisfied: contourpy>=1.0.1 in c:\\users\\ai\\miniconda3\\lib\\site-packages (from matplotlib>=3.3.0->ultralytics) (1.3.2)\n",
      "Requirement already satisfied: cycler>=0.10 in c:\\users\\ai\\miniconda3\\lib\\site-packages (from matplotlib>=3.3.0->ultralytics) (0.12.1)\n",
      "Requirement already satisfied: fonttools>=4.22.0 in c:\\users\\ai\\miniconda3\\lib\\site-packages (from matplotlib>=3.3.0->ultralytics) (4.58.4)\n",
      "Requirement already satisfied: kiwisolver>=1.3.1 in c:\\users\\ai\\miniconda3\\lib\\site-packages (from matplotlib>=3.3.0->ultralytics) (1.4.8)\n",
      "Requirement already satisfied: packaging>=20.0 in c:\\users\\ai\\miniconda3\\lib\\site-packages (from matplotlib>=3.3.0->ultralytics) (24.2)\n",
      "Requirement already satisfied: pyparsing>=2.3.1 in c:\\users\\ai\\miniconda3\\lib\\site-packages (from matplotlib>=3.3.0->ultralytics) (3.2.3)\n",
      "Requirement already satisfied: python-dateutil>=2.7 in c:\\users\\ai\\miniconda3\\lib\\site-packages (from matplotlib>=3.3.0->ultralytics) (2.9.0.post0)\n",
      "Requirement already satisfied: pytz>=2020.1 in c:\\users\\ai\\miniconda3\\lib\\site-packages (from pandas>=1.1.4->ultralytics) (2025.2)\n",
      "Requirement already satisfied: tzdata>=2022.7 in c:\\users\\ai\\miniconda3\\lib\\site-packages (from pandas>=1.1.4->ultralytics) (2025.2)\n",
      "Requirement already satisfied: six>=1.5 in c:\\users\\ai\\miniconda3\\lib\\site-packages (from python-dateutil>=2.7->matplotlib>=3.3.0->ultralytics) (1.17.0)\n",
      "Requirement already satisfied: charset-normalizer<4,>=2 in c:\\users\\ai\\miniconda3\\lib\\site-packages (from requests>=2.23.0->ultralytics) (3.3.2)\n",
      "Requirement already satisfied: idna<4,>=2.5 in c:\\users\\ai\\miniconda3\\lib\\site-packages (from requests>=2.23.0->ultralytics) (3.7)\n",
      "Requirement already satisfied: urllib3<3,>=1.21.1 in c:\\users\\ai\\miniconda3\\lib\\site-packages (from requests>=2.23.0->ultralytics) (2.3.0)\n",
      "Requirement already satisfied: certifi>=2017.4.17 in c:\\users\\ai\\miniconda3\\lib\\site-packages (from requests>=2.23.0->ultralytics) (2025.6.15)\n",
      "Requirement already satisfied: filelock in c:\\users\\ai\\miniconda3\\lib\\site-packages (from torch>=1.8.0->ultralytics) (3.13.1)\n",
      "Requirement already satisfied: typing-extensions>=4.10.0 in c:\\users\\ai\\miniconda3\\lib\\site-packages (from torch>=1.8.0->ultralytics) (4.12.2)\n",
      "Requirement already satisfied: sympy>=1.13.3 in c:\\users\\ai\\miniconda3\\lib\\site-packages (from torch>=1.8.0->ultralytics) (1.13.3)\n",
      "Requirement already satisfied: networkx in c:\\users\\ai\\miniconda3\\lib\\site-packages (from torch>=1.8.0->ultralytics) (3.3)\n",
      "Requirement already satisfied: jinja2 in c:\\users\\ai\\miniconda3\\lib\\site-packages (from torch>=1.8.0->ultralytics) (3.1.4)\n",
      "Requirement already satisfied: fsspec in c:\\users\\ai\\miniconda3\\lib\\site-packages (from torch>=1.8.0->ultralytics) (2024.6.1)\n",
      "Requirement already satisfied: setuptools in c:\\users\\ai\\miniconda3\\lib\\site-packages (from torch>=1.8.0->ultralytics) (78.1.1)\n",
      "Requirement already satisfied: mpmath<1.4,>=1.1.0 in c:\\users\\ai\\miniconda3\\lib\\site-packages (from sympy>=1.13.3->torch>=1.8.0->ultralytics) (1.3.0)\n",
      "Requirement already satisfied: colorama in c:\\users\\ai\\miniconda3\\lib\\site-packages (from tqdm>=4.64.0->ultralytics) (0.4.6)\n",
      "Requirement already satisfied: MarkupSafe>=2.0 in c:\\users\\ai\\miniconda3\\lib\\site-packages (from jinja2->torch>=1.8.0->ultralytics) (2.1.5)\n"
     ]
    }
   ],
   "source": [
    "# !pip list # 설치 라이브러리 확인\n",
    "!pip install ultralytics"
   ]
  },
  {
   "cell_type": "code",
   "execution_count": 6,
   "id": "dc4f36ce",
   "metadata": {},
   "outputs": [
    {
     "name": "stdout",
     "output_type": "stream",
     "text": [
      "Ultralytics 8.3.173  Python-3.13.5 torch-2.7.1+cu118 CUDA:0 (NVIDIA GeForce RTX 3060 Laptop GPU, 6144MiB)\n",
      "Setup complete  (20 CPUs, 15.7 GB RAM, 10.9/476.0 GB disk)\n"
     ]
    }
   ],
   "source": [
    "# ultralytics 라이브러리 로드 및 정보\n",
    "import ultralytics\n",
    "\n",
    "ultralytics.checks()"
   ]
  },
  {
   "cell_type": "code",
   "execution_count": 7,
   "id": "53904a1f",
   "metadata": {},
   "outputs": [],
   "source": [
    "# Load a pre-trained model\n",
    "from ultralytics import YOLO\n",
    "\n",
    "model = YOLO('.\\\\models\\\\yolo11n-pose.pt') # yolo11 pre-trained model 로드"
   ]
  },
  {
   "cell_type": "code",
   "execution_count": 8,
   "id": "45c04ca2",
   "metadata": {},
   "outputs": [
    {
     "name": "stdout",
     "output_type": "stream",
     "text": [
      "<class 'dict'> 1\n",
      "{0: 'person'}\n"
     ]
    }
   ],
   "source": [
    "# MS COCO Dataset에 정의되어 있는 클래스 개수와 종류는 model.names를 통해서 확인 할 수 있음(총 1개, 0)\n",
    "print(type(model.names), len(model.names))\n",
    "print(model.names)"
   ]
  },
  {
   "cell_type": "code",
   "execution_count": 9,
   "id": "0ff33bf8",
   "metadata": {},
   "outputs": [
    {
     "name": "stdout",
     "output_type": "stream",
     "text": [
      "\n",
      "image 1/6 d:\\AI\\Pytorch\\deep-learning\\data\\test_pose_image_dir\\test_01.jpg: 640x448 1 person, 50.9ms\n",
      "image 2/6 d:\\AI\\Pytorch\\deep-learning\\data\\test_pose_image_dir\\test_02.jpg: 640x448 1 person, 7.5ms\n",
      "image 3/6 d:\\AI\\Pytorch\\deep-learning\\data\\test_pose_image_dir\\test_03.jpg: 448x640 1 person, 52.8ms\n",
      "image 4/6 d:\\AI\\Pytorch\\deep-learning\\data\\test_pose_image_dir\\test_04.jpg: 640x512 1 person, 51.7ms\n",
      "image 5/6 d:\\AI\\Pytorch\\deep-learning\\data\\test_pose_image_dir\\test_05.jpg: 416x640 1 person, 52.6ms\n",
      "image 6/6 d:\\AI\\Pytorch\\deep-learning\\data\\test_pose_image_dir\\test_06.jpg: 640x480 2 persons, 52.6ms\n",
      "Speed: 1.6ms preprocess, 44.7ms inference, 11.5ms postprocess per image at shape (1, 3, 640, 480)\n",
      "Results saved to \u001b[1mruns\\pose\\predict2\u001b[0m\n"
     ]
    }
   ],
   "source": [
    "# YOLO11 Prediction - 포즈 추정(Pose Estimation)\n",
    "results = model.predict(source='.\\\\data\\\\test_pose_image_dir\\\\*.jpg', save=True)"
   ]
  },
  {
   "cell_type": "code",
   "execution_count": 10,
   "id": "22d0c78a",
   "metadata": {},
   "outputs": [
    {
     "name": "stdout",
     "output_type": "stream",
     "text": [
      "\n",
      "{class num:counts} =  {np.float32(0.0): np.int64(1)} \n",
      "\n",
      "class num =  0 , class_name =  person\n",
      "\n",
      "{class num:counts} =  {np.float32(0.0): np.int64(1)} \n",
      "\n",
      "class num =  0 , class_name =  person\n",
      "\n",
      "{class num:counts} =  {np.float32(0.0): np.int64(1)} \n",
      "\n",
      "class num =  0 , class_name =  person\n",
      "\n",
      "{class num:counts} =  {np.float32(0.0): np.int64(1)} \n",
      "\n",
      "class num =  0 , class_name =  person\n",
      "\n",
      "{class num:counts} =  {np.float32(0.0): np.int64(1)} \n",
      "\n",
      "class num =  0 , class_name =  person\n",
      "\n",
      "{class num:counts} =  {np.float32(0.0): np.int64(2)} \n",
      "\n",
      "class num =  0 , class_name =  person\n",
      "class num =  0 , class_name =  person\n"
     ]
    }
   ],
   "source": [
    "# Prediction 결과 정보\n",
    "\n",
    "for result in results: # results = model.predict\n",
    "    uniq, cnt = np.unique(result.boxes.cls.cpu().numpy(), return_counts=True) # tensor -> numpy\n",
    "    uniq_cnt_dict = dict(zip(uniq, cnt))\n",
    "\n",
    "    print('\\n{class num:counts} = ', uniq_cnt_dict, '\\n')\n",
    "\n",
    "    for c in result.boxes.cls:\n",
    "        print('class num = ', int(c), ', class_name = ', model.names[int(c)])"
   ]
  }
 ],
 "metadata": {
  "kernelspec": {
   "display_name": "base",
   "language": "python",
   "name": "python3"
  },
  "language_info": {
   "codemirror_mode": {
    "name": "ipython",
    "version": 3
   },
   "file_extension": ".py",
   "mimetype": "text/x-python",
   "name": "python",
   "nbconvert_exporter": "python",
   "pygments_lexer": "ipython3",
   "version": "3.13.5"
  }
 },
 "nbformat": 4,
 "nbformat_minor": 5
}
