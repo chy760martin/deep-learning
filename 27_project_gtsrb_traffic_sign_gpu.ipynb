{
 "cells": [
  {
   "cell_type": "code",
   "execution_count": 2,
   "id": "9bd2428f",
   "metadata": {},
   "outputs": [],
   "source": [
    "# GTSRB (German Traffic Sign Recognition Benchmark) - 표지판(Traffic sign) 이미지 분류\n",
    "\n",
    "# GTSRB (German Traffic Sign Recognition Benchmark) 데이터는 표지판(Traffic sign)을 예측하기 위해서 만든 데이터이며,\n",
    "# 평균적으로 32x32 크기를 가지는 color 이미지로, 43개 교통 표지판과 관련된 약 4만 개의 이미지를 포함\n",
    "\n",
    "# Conv Layer -> Conv Layer -> MaxPooling Layer -> Flatten Layer -> Linear -> Linear\n",
    "# 데이터 다운로드 및 로드 -> 데이터 전처리 -> 모델 아키텍처 구성 -> 모델 학습 및 평가"
   ]
  },
  {
   "cell_type": "code",
   "execution_count": 40,
   "id": "b3719cbe",
   "metadata": {},
   "outputs": [
    {
     "name": "stdout",
     "output_type": "stream",
     "text": [
      "pytorch version :  2.7.1+cu118 , device :  cuda\n"
     ]
    }
   ],
   "source": [
    "# 라이브러리\n",
    "import os\n",
    "import shutil\n",
    "import glob\n",
    "import cv2\n",
    "import zipfile\n",
    "import random\n",
    "import numpy as np\n",
    "from datetime import datetime\n",
    "import matplotlib.pyplot as plt\n",
    "\n",
    "import torch\n",
    "import torch.nn as nn\n",
    "import torch.optim as optim\n",
    "from torchvision import transforms, datasets\n",
    "from torch.utils.data import Dataset, DataLoader, random_split\n",
    "\n",
    "# GPU 설정\n",
    "DEVICE = torch.device(\"cuda\" if torch.cuda.is_available() else \"cpu\")\n",
    "print('pytorch version : ', torch.__version__, ', device : ', DEVICE)"
   ]
  },
  {
   "cell_type": "code",
   "execution_count": null,
   "id": "8f92a310",
   "metadata": {},
   "outputs": [],
   "source": [
    "# ===============================\n",
    "# 데이터 경로 설정\n",
    "# ===============================\n",
    "ROOT_DIR = '.\\\\data'\n",
    "DATA_ROOT_DIR = os.path.join(ROOT_DIR, 'GTSRB\\\\Final_Training\\\\Images')\n",
    "TRAIN_DATA_ROOT_DIR = os.path.join(DATA_ROOT_DIR, 'Training')\n",
    "TEST_DATA_ROOT_DIR = os.path.join(DATA_ROOT_DIR, 'Testing')\n",
    "# os.mkdir(os.path.join(DATA_ROOT_DIR, 'Training'))\n",
    "# os.mkdir(os.path.join(DATA_ROOT_DIR, 'Testing'))"
   ]
  },
  {
   "cell_type": "code",
   "execution_count": 5,
   "id": "2248c0cb",
   "metadata": {},
   "outputs": [
    {
     "name": "stdout",
     "output_type": "stream",
     "text": [
      ".\\data\\GTSRB is removed\n"
     ]
    }
   ],
   "source": [
    "# 데이터 폴더 존재시 삭제\n",
    "if os.path.exists('.\\\\data\\\\GTSRB'):\n",
    "    shutil.rmtree('.\\\\data\\\\GTSRB')\n",
    "    print('.\\\\data\\\\GTSRB is removed')"
   ]
  },
  {
   "cell_type": "code",
   "execution_count": 7,
   "id": "7f66be38",
   "metadata": {},
   "outputs": [],
   "source": [
    "# 압축 해제\n",
    "with zipfile.ZipFile(os.path.join(ROOT_DIR, 'GTSRB_Final_Training_Images.zip'), 'r') as target_file:\n",
    "    target_file.extractall(ROOT_DIR)"
   ]
  },
  {
   "cell_type": "code",
   "execution_count": 36,
   "id": "4cda99d0",
   "metadata": {},
   "outputs": [
    {
     "name": "stdout",
     "output_type": "stream",
     "text": [
      "['00000', '00001', '00002', '00003', '00004', '00005', '00006', '00007', '00008', '00009', '00010', '00011', '00012', '00013', '00014', '00015', '00016', '00017', '00018', '00019', '00020', '00021', '00022', '00023', '00024', '00025', '00026', '00027', '00028', '00029', '00030', '00031', '00032', '00033', '00034', '00035', '00036', '00037', '00038', '00039', '00040', '00041', '00042']\n",
      "211 is moved into 00000 (Testing => Training)\n",
      "2221 is moved into 00001 (Testing => Training)\n",
      "2251 is moved into 00002 (Testing => Training)\n",
      "1411 is moved into 00003 (Testing => Training)\n",
      "1981 is moved into 00004 (Testing => Training)\n",
      "1861 is moved into 00005 (Testing => Training)\n",
      "421 is moved into 00006 (Testing => Training)\n",
      "1441 is moved into 00007 (Testing => Training)\n",
      "1411 is moved into 00008 (Testing => Training)\n",
      "1471 is moved into 00009 (Testing => Training)\n",
      "2011 is moved into 00010 (Testing => Training)\n",
      "1321 is moved into 00011 (Testing => Training)\n",
      "2101 is moved into 00012 (Testing => Training)\n",
      "2161 is moved into 00013 (Testing => Training)\n",
      "781 is moved into 00014 (Testing => Training)\n",
      "631 is moved into 00015 (Testing => Training)\n",
      "421 is moved into 00016 (Testing => Training)\n",
      "1111 is moved into 00017 (Testing => Training)\n",
      "1201 is moved into 00018 (Testing => Training)\n",
      "211 is moved into 00019 (Testing => Training)\n",
      "361 is moved into 00020 (Testing => Training)\n",
      "331 is moved into 00021 (Testing => Training)\n",
      "391 is moved into 00022 (Testing => Training)\n",
      "511 is moved into 00023 (Testing => Training)\n",
      "271 is moved into 00024 (Testing => Training)\n",
      "1501 is moved into 00025 (Testing => Training)\n",
      "601 is moved into 00026 (Testing => Training)\n",
      "241 is moved into 00027 (Testing => Training)\n",
      "541 is moved into 00028 (Testing => Training)\n",
      "271 is moved into 00029 (Testing => Training)\n",
      "451 is moved into 00030 (Testing => Training)\n",
      "781 is moved into 00031 (Testing => Training)\n",
      "241 is moved into 00032 (Testing => Training)\n",
      "690 is moved into 00033 (Testing => Training)\n",
      "421 is moved into 00034 (Testing => Training)\n",
      "1201 is moved into 00035 (Testing => Training)\n",
      "391 is moved into 00036 (Testing => Training)\n",
      "211 is moved into 00037 (Testing => Training)\n",
      "2071 is moved into 00038 (Testing => Training)\n",
      "301 is moved into 00039 (Testing => Training)\n",
      "361 is moved into 00040 (Testing => Training)\n",
      "241 is moved into 00041 (Testing => Training)\n",
      "241 is moved into 00042 (Testing => Training)\n"
     ]
    }
   ],
   "source": [
    "# 데이터 재구축 - Testing 데이터 -> Training 데이터\n",
    "# - Testing 데이터와 Training 데이터가 이질적이기 때문에 학습 정확도와 테스트 정확도의 편차를 줄여서 모델의 신뢰성을 높이기 위함\n",
    "# 1) 학습 전에 Testing 데이터와 Training 데이터를 혼합하고\n",
    "# 2) Training : Testing = 8 : 2 비율로 데이터를 재구축\n",
    "\n",
    "test_label_name_list = os.listdir(TEST_DATA_ROOT_DIR)\n",
    "print(test_label_name_list)\n",
    "\n",
    "for label_name in test_label_name_list: # Testing 디렉토리 각각의 label(정답)\n",
    "    test_path = os.path.join(TEST_DATA_ROOT_DIR, label_name)\n",
    "    # print(test_path)\n",
    "    test_file_list = os.listdir(test_path) # label 디렉토리에 있는 이미지 파일 목록을 뽑아냄\n",
    "    # print(test_file_list)\n",
    "    train_path = os.path.join(TRAIN_DATA_ROOT_DIR, label_name)\n",
    "    # print(train_path)\n",
    "    moved_num = 0\n",
    "\n",
    "    for test_image_file in test_file_list: # 모든 이미지 파일\n",
    "        # Testing 디렉토리 이미지 파일을 동일한 label의 Training 디렉토리로 이동\n",
    "        shutil.move(os.path.join(test_path, test_image_file),\n",
    "                    os.path.join(train_path, test_image_file))\n",
    "        \n",
    "        moved_num = moved_num + 1\n",
    "    \n",
    "    print(str(moved_num) + ' is moved into ' + label_name + ' (Testing => Training)')"
   ]
  },
  {
   "cell_type": "code",
   "execution_count": 38,
   "id": "96009306",
   "metadata": {},
   "outputs": [
    {
     "name": "stdout",
     "output_type": "stream",
     "text": [
      "['00000', '00001', '00002', '00003', '00004', '00005', '00006', '00007', '00008', '00009', '00010', '00011', '00012', '00013', '00014', '00015', '00016', '00017', '00018', '00019', '00020', '00021', '00022', '00023', '00024', '00025', '00026', '00027', '00028', '00029', '00030', '00031', '00032', '00033', '00034', '00035', '00036', '00037', '00038', '00039', '00040', '00041', '00042']\n"
     ]
    }
   ],
   "source": [
    "# 데이터 재구축 - Training 데이터 -> Testing 데이터\n",
    "\n",
    "MOVE_RATIO = 0.2 # train : test = 80 : 20, 즉 train 데이터 20% 데이터를 test 데이터로 사용\n",
    "\n",
    "label_name_list = os.listdir(TRAIN_DATA_ROOT_DIR)\n",
    "print(label_name_list)\n",
    "\n",
    "for label_name in label_name_list: # Training 디렉토리 각각의 label(정답)\n",
    "    # 파일 move 하기 위한 src_dir_path, dst_dir_path 설정\n",
    "    src_dir_path = os.path.join(TRAIN_DATA_ROOT_DIR, label_name)\n",
    "    dst_dir_path = os.path.join(TEST_DATA_ROOT_DIR, label_name)\n",
    "\n",
    "    train_data_file_list = os.listdir(src_dir_path) # label 디렉토리에 있는 이미지 파일 목록을 뽑아냄\n",
    "    random.shuffle(train_data_file_list)\n",
    "    # print(train_data_file_list)\n",
    "\n",
    "    # 데이터 다양성을 위해 train data를 random하게 shuffle 한 후에, test data list 생성\n",
    "    split_num = int(MOVE_RATIO * len(train_data_file_list))\n",
    "    test_data_file_list = train_data_file_list[0:split_num]\n",
    "\n",
    "    # shutil.move 이용해서 Training 디렉토리에서 20% 비율로 test data를 생성해서 Testing 디렉토리로 이동\n",
    "    for test_data_file in test_data_file_list:\n",
    "        try:\n",
    "            shutil.move(os.path.join(src_dir_path, test_data_file),\n",
    "                        os.path.join(dst_dir_path, test_data_file))\n",
    "        except Exception as err:\n",
    "            print(str(err))"
   ]
  },
  {
   "cell_type": "code",
   "execution_count": 44,
   "id": "4690e1f2",
   "metadata": {},
   "outputs": [
    {
     "name": "stdout",
     "output_type": "stream",
     "text": [
      "클래스 :  ['00000', '00001', '00002', '00003', '00004', '00005', '00006', '00007', '00008', '00009', '00010', '00011', '00012', '00013', '00014', '00015', '00016', '00017', '00018', '00019', '00020', '00021', '00022', '00023', '00024', '00025', '00026', '00027', '00028', '00029', '00030', '00031', '00032', '00033', '00034', '00035', '00036', '00037', '00038', '00039', '00040', '00041', '00042']\n"
     ]
    }
   ],
   "source": [
    "# ===============================\n",
    "# Dataset 준비\n",
    "# ===============================\n",
    "IMG_WIDTH, IMG_HEIGHT = 32, 32\n",
    "BATCH_SIZE = 32\n",
    "\n",
    "# transforms 설정\n",
    "train_transforms = transforms.Compose([\n",
    "    transforms.Resize((IMG_WIDTH, IMG_HEIGHT)),\n",
    "    transforms.ToTensor(),\n",
    "    transforms.Normalize([0.485, 0.456, 0.406],  # ImageNet 기준 정규화\n",
    "                         [0.229, 0.224, 0.225])\n",
    "])\n",
    "\n",
    "test_transforms = transforms.Compose([\n",
    "    transforms.Resize((IMG_WIDTH, IMG_HEIGHT)),\n",
    "    transforms.ToTensor(),\n",
    "    transforms.Normalize([0.485, 0.456, 0.406],\n",
    "                         [0.229, 0.224, 0.225])\n",
    "])\n",
    "\n",
    "# datasets.ImageFolder\n",
    "train_dataset = datasets.ImageFolder(TRAIN_DATA_ROOT_DIR, transform=train_transforms)\n",
    "test_dataset = datasets.ImageFolder(TEST_DATA_ROOT_DIR, transform=test_transforms)\n",
    "\n",
    "# DataLoader\n",
    "train_loader = DataLoader(train_dataset, batch_size=BATCH_SIZE, shuffle=True)\n",
    "test_loader = DataLoader(test_dataset, batch_size=BATCH_SIZE, shuffle=False)\n",
    "\n",
    "# 정답 label\n",
    "class_names = train_dataset.classes\n",
    "print('클래스 : ', class_names)"
   ]
  },
  {
   "cell_type": "code",
   "execution_count": 45,
   "id": "33751ef1",
   "metadata": {},
   "outputs": [
    {
     "name": "stderr",
     "output_type": "stream",
     "text": [
      "Clipping input data to the valid range for imshow with RGB data ([0..1] for floats or [0..255] for integers). Got range [-1.7754089..1.1236603].\n",
      "Clipping input data to the valid range for imshow with RGB data ([0..1] for floats or [0..255] for integers). Got range [-1.980906..-0.39267966].\n",
      "Clipping input data to the valid range for imshow with RGB data ([0..1] for floats or [0..255] for integers). Got range [-1.6680672..1.4199566].\n",
      "Clipping input data to the valid range for imshow with RGB data ([0..1] for floats or [0..255] for integers). Got range [-1.5870366..2.64].\n",
      "Clipping input data to the valid range for imshow with RGB data ([0..1] for floats or [0..255] for integers). Got range [-1.8267832..0.40906325].\n",
      "Clipping input data to the valid range for imshow with RGB data ([0..1] for floats or [0..255] for integers). Got range [-1.980906..-0.39267966].\n",
      "Clipping input data to the valid range for imshow with RGB data ([0..1] for floats or [0..255] for integers). Got range [-1.7582842..2.64].\n",
      "Clipping input data to the valid range for imshow with RGB data ([0..1] for floats or [0..255] for integers). Got range [-1.980906..-0.39267966].\n",
      "Clipping input data to the valid range for imshow with RGB data ([0..1] for floats or [0..255] for integers). Got range [-1.6384109..2.64].\n",
      "Clipping input data to the valid range for imshow with RGB data ([0..1] for floats or [0..255] for integers). Got range [-1.7925336..2.64].\n",
      "Clipping input data to the valid range for imshow with RGB data ([0..1] for floats or [0..255] for integers). Got range [-1.7347276..2.64].\n",
      "Clipping input data to the valid range for imshow with RGB data ([0..1] for floats or [0..255] for integers). Got range [-1.9980307..-0.74126357].\n",
      "Clipping input data to the valid range for imshow with RGB data ([0..1] for floats or [0..255] for integers). Got range [-1.5870366..2.64].\n",
      "Clipping input data to the valid range for imshow with RGB data ([0..1] for floats or [0..255] for integers). Got range [-1.980906..-0.41010883].\n",
      "Clipping input data to the valid range for imshow with RGB data ([0..1] for floats or [0..255] for integers). Got range [-1.7925336..1.2805231].\n",
      "Clipping input data to the valid range for imshow with RGB data ([0..1] for floats or [0..255] for integers). Got range [-1.6680672..1.1062311].\n"
     ]
    },
    {
     "name": "stdout",
     "output_type": "stream",
     "text": [
      "torch.Size([32, 3, 32, 32]) torch.Size([32])\n",
      "{0: '00000', 1: '00001', 2: '00002', 3: '00003', 4: '00004', 5: '00005', 6: '00006', 7: '00007', 8: '00008', 9: '00009', 10: '00010', 11: '00011', 12: '00012', 13: '00013', 14: '00014', 15: '00015', 16: '00016', 17: '00017', 18: '00018', 19: '00019', 20: '00020', 21: '00021', 22: '00022', 23: '00023', 24: '00024', 25: '00025', 26: '00026', 27: '00027', 28: '00028', 29: '00029', 30: '00030', 31: '00031', 32: '00032', 33: '00033', 34: '00034', 35: '00035', 36: '00036', 37: '00037', 38: '00038', 39: '00039', 40: '00040', 41: '00041', 42: '00042'}\n"
     ]
    },
    {
     "data": {
      "image/png": "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",
      "text/plain": [
       "<Figure size 800x700 with 16 Axes>"
      ]
     },
     "metadata": {},
     "output_type": "display_data"
    }
   ],
   "source": [
    "# 1개 배치 추출\n",
    "images, labels = next(iter(train_loader))\n",
    "print(images.shape, labels.shape)\n",
    "\n",
    "# labels map 생성\n",
    "labels_map = { v : k for k, v in train_dataset.class_to_idx.items() }\n",
    "print(labels_map)\n",
    "\n",
    "# 이미지 시각화\n",
    "plt.figure(figsize=(8, 7))\n",
    "cols, rows = 4, 4\n",
    "\n",
    "for i in range(1, cols * rows + 1):\n",
    "    sample_idx = torch.randint(len(images), size=(1, )).item()\n",
    "    img, label = images[sample_idx], labels[sample_idx].item()\n",
    "    plt.subplot(rows, cols, i)\n",
    "    plt.imshow(torch.permute(img, (1, 2, 0)))\n",
    "    plt.title(labels_map[label])\n",
    "    plt.axis('off')\n",
    "plt.tight_layout()\n",
    "plt.show()"
   ]
  },
  {
   "cell_type": "code",
   "execution_count": 47,
   "id": "6f8e52ec",
   "metadata": {},
   "outputs": [],
   "source": [
    "# ======================\n",
    "# CNN 모델 정의\n",
    "# ======================\n",
    "class CNNModel(nn.Module):\n",
    "    def __init__(self, num_classes):\n",
    "        super(CNNModel, self).__init__()\n",
    "        self.features = nn.Sequential(\n",
    "            nn.Conv2d(3, 32, kernel_size=3, padding=0),\n",
    "            nn.ReLU(),\n",
    "            nn.Conv2d(32, 64, kernel_size=3, padding=0),\n",
    "            nn.ReLU(),\n",
    "            nn.MaxPool2d(2),\n",
    "            nn.Dropout(0.25)\n",
    "        )\n",
    "        self.classifier = nn.Sequential(\n",
    "            nn.Flatten(),\n",
    "            nn.Linear(64 * 14 * 14, 256),  # 32x32 → conv(3x3)x2 → 28x28 → pool(2x2) → 14x14\n",
    "            nn.ReLU(),\n",
    "            nn.Dropout(0.5),\n",
    "            nn.Linear(256, num_classes)\n",
    "        )\n",
    "\n",
    "    def forward(self, x):\n",
    "        x = self.features(x)\n",
    "        x = self.classifier(x)\n",
    "        return x"
   ]
  },
  {
   "cell_type": "code",
   "execution_count": 50,
   "id": "ce140ec3",
   "metadata": {},
   "outputs": [
    {
     "name": "stdout",
     "output_type": "stream",
     "text": [
      "CNNModel(\n",
      "  (features): Sequential(\n",
      "    (0): Conv2d(3, 32, kernel_size=(3, 3), stride=(1, 1))\n",
      "    (1): ReLU()\n",
      "    (2): Conv2d(32, 64, kernel_size=(3, 3), stride=(1, 1))\n",
      "    (3): ReLU()\n",
      "    (4): MaxPool2d(kernel_size=2, stride=2, padding=0, dilation=1, ceil_mode=False)\n",
      "    (5): Dropout(p=0.25, inplace=False)\n",
      "  )\n",
      "  (classifier): Sequential(\n",
      "    (0): Flatten(start_dim=1, end_dim=-1)\n",
      "    (1): Linear(in_features=12544, out_features=256, bias=True)\n",
      "    (2): ReLU()\n",
      "    (3): Dropout(p=0.5, inplace=False)\n",
      "    (4): Linear(in_features=256, out_features=43, bias=True)\n",
      "  )\n",
      ")\n"
     ]
    }
   ],
   "source": [
    "# ======================\n",
    "# 모델객체 & 손실함수 & 옵티마이저\n",
    "# ======================\n",
    "n_classes = len(class_names)\n",
    "model = CNNModel(n_classes).to(DEVICE)\n",
    "print(model)\n",
    "\n",
    "loss_function = nn.CrossEntropyLoss()\n",
    "optimizer = optim.Adam(model.parameters(), lr=0.001)"
   ]
  },
  {
   "cell_type": "code",
   "execution_count": 51,
   "id": "be2c15ad",
   "metadata": {},
   "outputs": [],
   "source": [
    "# ===============================\n",
    "# 학습 함수\n",
    "# ===============================\n",
    "def train_model(model, loss_function, optimizer, train_loader, val_loader, num_epochs=50, patience=5):\n",
    "    best_loss = np.inf\n",
    "    counter = 0\n",
    "    train_acc_hist, val_acc_hist = [], []\n",
    "    train_loss_hist, val_loss_hist = [], []\n",
    "\n",
    "    for epoch in range(num_epochs):\n",
    "        # --- Train ---\n",
    "        model.train()\n",
    "        running_loss, running_corrects = 0.0, 0\n",
    "\n",
    "        for inputs, labels in train_loader:\n",
    "            inputs, labels = inputs.to(DEVICE), labels.to(DEVICE)\n",
    "\n",
    "            optimizer.zero_grad() # 미분 초기화\n",
    "            outputs = model(inputs) # 모델 예측\n",
    "            loss = loss_function(outputs, labels) # 손실함수 계산\n",
    "\n",
    "            _, preds = torch.max(outputs, 1) # 예측값 분리\n",
    "            loss.backward() # 미분 연산\n",
    "            optimizer.step() # 미분 연산 후 파라미터(가중치, 바이어스) 업데이트\n",
    "\n",
    "            running_loss += loss.item() * inputs.size(0)\n",
    "            running_corrects += torch.sum(preds == labels.data)\n",
    "\n",
    "        epoch_loss = running_loss / len(train_loader.dataset) # 평균 손실함수값\n",
    "        epoch_acc = running_corrects.double() / len(train_loader.dataset) # 평균 정확도값\n",
    "        train_loss_hist.append(epoch_loss)\n",
    "        train_acc_hist.append(epoch_acc.item())\n",
    "\n",
    "        # --- Validation ---\n",
    "        model.eval()\n",
    "        val_running_loss, val_running_corrects = 0.0, 0\n",
    "\n",
    "        with torch.no_grad(): # 오차역전파 사용 안함, 미분 연산 하지 않음\n",
    "            for inputs, labels in val_loader:\n",
    "                inputs, labels = inputs.to(DEVICE), labels.to(DEVICE)\n",
    "                outputs = model(inputs) # 모델 예측\n",
    "                loss = loss_function(outputs, labels) # 손실함수값 계산\n",
    "\n",
    "                _, preds = torch.max(outputs, 1) # 예측값 분리\n",
    "                val_running_loss += loss.item() * inputs.size(0)\n",
    "                val_running_corrects += torch.sum(preds == labels.data)\n",
    "\n",
    "        val_loss = val_running_loss / len(val_loader.dataset) # validation 평균 손실함수값\n",
    "        val_acc = val_running_corrects.double() / len(val_loader.dataset) # validation 평균 정확도값\n",
    "        val_loss_hist.append(val_loss)\n",
    "        val_acc_hist.append(val_acc.item())\n",
    "\n",
    "        print(f\"Epoch {epoch+1}/{num_epochs} - \"\n",
    "              f\"Train loss: {epoch_loss:.4f}, acc: {epoch_acc:.4f} \"\n",
    "              f\"Val loss: {val_loss:.4f}, acc: {val_acc:.4f}\")\n",
    "\n",
    "        # Early stopping\n",
    "        if val_loss < best_loss:\n",
    "            best_loss = val_loss\n",
    "            best_model_wts = model.state_dict()\n",
    "            counter = 0\n",
    "        else:\n",
    "            counter += 1\n",
    "            if counter >= patience:\n",
    "                print(\"Early stopping triggered\")\n",
    "                model.load_state_dict(best_model_wts)\n",
    "                break\n",
    "\n",
    "    return model, (train_acc_hist, val_acc_hist, train_loss_hist, val_loss_hist)"
   ]
  },
  {
   "cell_type": "code",
   "execution_count": 52,
   "id": "9613c120",
   "metadata": {},
   "outputs": [
    {
     "name": "stdout",
     "output_type": "stream",
     "text": [
      "Epoch 1/30 - Train loss: 0.8269, acc: 0.7653 Val loss: 0.0997, acc: 0.9748\n",
      "Epoch 2/30 - Train loss: 0.1821, acc: 0.9459 Val loss: 0.0462, acc: 0.9900\n",
      "Epoch 3/30 - Train loss: 0.1117, acc: 0.9662 Val loss: 0.0351, acc: 0.9922\n",
      "Epoch 4/30 - Train loss: 0.0825, acc: 0.9752 Val loss: 0.0310, acc: 0.9929\n",
      "Epoch 5/30 - Train loss: 0.0740, acc: 0.9780 Val loss: 0.0302, acc: 0.9943\n",
      "Epoch 6/30 - Train loss: 0.0649, acc: 0.9798 Val loss: 0.0338, acc: 0.9927\n",
      "Epoch 7/30 - Train loss: 0.0543, acc: 0.9841 Val loss: 0.0234, acc: 0.9954\n",
      "Epoch 8/30 - Train loss: 0.0536, acc: 0.9837 Val loss: 0.0478, acc: 0.9891\n",
      "Epoch 9/30 - Train loss: 0.0511, acc: 0.9849 Val loss: 0.0325, acc: 0.9943\n",
      "Epoch 10/30 - Train loss: 0.0387, acc: 0.9885 Val loss: 0.0282, acc: 0.9953\n",
      "Epoch 11/30 - Train loss: 0.0478, acc: 0.9861 Val loss: 0.0298, acc: 0.9951\n",
      "Epoch 12/30 - Train loss: 0.0306, acc: 0.9914 Val loss: 0.0366, acc: 0.9941\n",
      "Early stopping triggered\n"
     ]
    }
   ],
   "source": [
    "# ===============================\n",
    "# 학습 실행\n",
    "# ===============================\n",
    "model, history = train_model(model, loss_function, optimizer, train_loader, test_loader, num_epochs=30)"
   ]
  },
  {
   "cell_type": "code",
<<<<<<< Updated upstream
   "execution_count": null,
=======
   "execution_count": 55,
>>>>>>> Stashed changes
   "id": "6c3de51b",
   "metadata": {},
   "outputs": [
    {
     "data": {
      "image/png": "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",
      "text/plain": [
       "<Figure size 640x480 with 1 Axes>"
      ]
     },
     "metadata": {},
     "output_type": "display_data"
    },
    {
     "data": {
      "image/png": "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",
      "text/plain": [
       "<Figure size 640x480 with 1 Axes>"
      ]
     },
     "metadata": {},
     "output_type": "display_data"
    }
   ],
   "source": [
<<<<<<< Updated upstream
    "# ======================\n",
    "# 정확도 및 손실 그래프\n",
    "# ======================\n",
=======
    "# ===============================\n",
    "# 성능 시각화\n",
    "# ===============================\n",
>>>>>>> Stashed changes
    "train_acc_hist, val_acc_hist, train_loss_hist, val_loss_hist = history\n",
    "\n",
    "plt.plot(train_acc_hist, label='train')\n",
    "plt.plot(val_acc_hist, label='validation')\n",
    "plt.title('Accuracy Trend')\n",
    "plt.xlabel('epoch')\n",
    "plt.ylabel('accuracy')\n",
    "plt.legend()\n",
    "plt.grid()\n",
    "plt.show()\n",
    "\n",
    "plt.plot(train_loss_hist, label='train')\n",
    "plt.plot(val_loss_hist, label='validation')\n",
    "plt.title('Loss Trend')\n",
    "plt.xlabel('epoch')\n",
    "plt.ylabel('loss')\n",
    "plt.legend()\n",
    "plt.grid()\n",
    "plt.show()"
   ]
  },
  {
   "cell_type": "code",
   "execution_count": 56,
   "id": "1ee9051e",
   "metadata": {},
   "outputs": [],
   "source": [
    "# Save the model checkpoint\n",
    "torch.save(model.state_dict(), '.\\\\models\\\\model_cnn_gtsrb_traffic.ckpt')"
   ]
  },
  {
   "cell_type": "code",
   "execution_count": 57,
   "id": "6b1814c1",
   "metadata": {},
   "outputs": [
    {
     "name": "stdout",
     "output_type": "stream",
     "text": [
      "Test Accuracy: 99.41%\n"
     ]
    }
   ],
   "source": [
    "# ===============================\n",
    "# 테스트 성능 평가\n",
    "# ===============================\n",
    "model.eval()\n",
    "correct, total = 0, 0\n",
    "with torch.no_grad():\n",
    "    for inputs, labels in test_loader:\n",
    "        inputs, labels = inputs.to(DEVICE), labels.to(DEVICE)\n",
    "        outputs = model(inputs)\n",
    "        _, preds = torch.max(outputs, 1)\n",
    "        total += labels.size(0)\n",
    "        correct += (preds == labels).sum().item()\n",
    "\n",
    "print(f\"Test Accuracy: {100 * correct / total:.2f}%\")"
   ]
  }
 ],
 "metadata": {
  "kernelspec": {
   "display_name": "base",
   "language": "python",
   "name": "python3"
  },
  "language_info": {
   "codemirror_mode": {
    "name": "ipython",
    "version": 3
   },
   "file_extension": ".py",
   "mimetype": "text/x-python",
   "name": "python",
   "nbconvert_exporter": "python",
   "pygments_lexer": "ipython3",
   "version": "3.13.5"
  }
 },
 "nbformat": 4,
 "nbformat_minor": 5
}
